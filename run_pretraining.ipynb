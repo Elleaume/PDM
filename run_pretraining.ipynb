{
 "cells": [
  {
   "cell_type": "code",
   "execution_count": 1,
   "id": "66f869fc",
   "metadata": {},
   "outputs": [],
   "source": [
    "import random\n",
    "from pathlib import Path\n",
    "import time\n",
    "import matplotlib.pyplot as plt\n",
    "#%matplotlib inline\n",
    "\n",
    "import numpy as np\n",
    "import pandas as pd\n",
    "import torch\n",
    "import torch.nn as nn\n",
    "import nibabel as nib\n",
    "from torch.utils.data import DataLoader\n",
    "from tqdm import tqdm\n",
    "import copy\n",
    "\n",
    "from decoder_pretrain import DecoderPretrainNet\n",
    "from encoder_pretrain import EncoderPretrainNet\n",
    "from gloss_dminus import GlobalLossDminus\n",
    "from gloss_d import GlobalLossD\n",
    "from demeaned_gloss_d import DemeanedGlobalLossD\n",
    "from pretraining_utils import *\n",
    "\n",
    "import argparse\n",
    "import json\n",
    "import statistics\n",
    "\n",
    "torch.cuda.empty_cache()\n",
    "\n",
    "with open('configs/preprocessing_datasets.json') as config_file:\n",
    "    config_datasets = json.load(config_file)\n",
    "with open('configs/config_encoder.json') as config_file:\n",
    "    config_encoder = json.load(config_file)\n",
    "\n",
    "# init W&B\n",
    "#print(\"Using W&B in %s mode\" % 'online')\n",
    "#wandb.init(project=config_encoder[\"model\"], mode='online')\n",
    "seed = config_encoder['seed']\n",
    "torch.manual_seed(seed)\n",
    "np.random.seed(seed)\n",
    "\n",
    "# choose model from config\n",
    "model = EncoderPretrainNet(config_encoder)"
   ]
  },
  {
   "cell_type": "code",
   "execution_count": 2,
   "id": "dfd8b764",
   "metadata": {},
   "outputs": [],
   "source": [
    "import numpy as np\n",
    "import torch\n",
    "import torch.nn as nn\n",
    "import pdb\n",
    "\n",
    "class GlobalLossD(nn.Module):\n",
    "    def __init__(self, config_encoder, within_dataset = False):\n",
    "        super(GlobalLossD, self).__init__()\n",
    "        # if dtype == 'train' :\n",
    "        #    self.batch_size = config_encoder['batch_size']\n",
    "        # else :\n",
    "        #    self.batch_size = config_encoder['validation_batch_size']\n",
    "\n",
    "        self.n_parts = config_encoder['n_parts']\n",
    "        self.n_datasets = len(['ACDC', 'HCP', 'Chaos'])\n",
    "        self.n_volumes = 4#config_encoder['n_volumes']\n",
    "        self.n_transforms = config_encoder['n_transforms']\n",
    "        self.batch_size = self.n_parts * self.n_datasets * self.n_volumes \n",
    "        self.weight_loss = config_encoder['weight_loss']\n",
    "        self.temp_fac = config_encoder['temp_fac']\n",
    "        self.cos_sim = nn.CosineSimilarity(dim=1, eps=1e-6)\n",
    "        self.within_dataset = within_dataset\n",
    "        self.dataset_similar = 0#config_encoder['dataset_similar']\n",
    "\n",
    "    def compute_symmetrical_loss(self, xi, xj, x_den):\n",
    "        loss_tmp=0\n",
    "        \n",
    "        if len(xi.shape) > 2 :\n",
    "            xi = xi.view(xi.shape[0], -1)\n",
    "            xj = xj.view(xj.shape[0], -1)\n",
    "            x_den = x_den.view(x_den.shape[0], -1)\n",
    "            \n",
    "        num_i1_i2_ss = self.cos_sim(xi, xj) / self.temp_fac\n",
    "        den_i1_i2_ss = self.cos_sim(xi, x_den) / self.temp_fac\n",
    "        num_i1_i2_loss = -torch.log(torch.exp(num_i1_i2_ss) / \n",
    "                                    (torch.exp(num_i1_i2_ss) + \n",
    "                                     torch.sum(torch.exp(den_i1_i2_ss))))\n",
    "        \n",
    "        loss_tmp = loss_tmp + num_i1_i2_loss\n",
    "        \n",
    "        den_i2_i1_ss = self.cos_sim(xj, x_den) / self.temp_fac\n",
    "        num_i2_i1_loss = -torch.log(torch.exp(num_i1_i2_ss) / \n",
    "                                        (torch.exp(num_i1_i2_ss) + \n",
    "                                         torch.sum(torch.exp(den_i2_i1_ss))))\n",
    "\n",
    "        loss_tmp = loss_tmp + num_i2_i1_loss\n",
    "\n",
    "        return loss_tmp\n",
    "\n",
    "    def forward(self, reg_pred):\n",
    "\n",
    "        n_parts = self.n_parts\n",
    "        n_datasets = self.n_datasets\n",
    "        bs = self.batch_size\n",
    "        net_global_loss = torch.zeros(1, device=reg_pred.device)\n",
    "\n",
    "        for pos_index in range(0, bs, 1):\n",
    "            # indexes of positive pair of samples \n",
    "            \n",
    "            num_i1 = np.arange(pos_index, pos_index + 1, dtype=np.int32) # [pos_index]\n",
    "            \n",
    "            j_tf = bs + pos_index\n",
    "            num_i2 = np.arange(j_tf, j_tf + 1, dtype=np.int32)\n",
    "            \n",
    "            k = (pos_index + n_parts*n_datasets ) % (bs* (self.n_transforms + 1))\n",
    "            num_i3 = np.arange(k, k + 1, dtype=np.int32)\n",
    "            \n",
    "            k_tf1 = (bs + pos_index + n_parts*n_datasets) % (bs* (self.n_transforms + 1))\n",
    "            num_i4 = np.arange(k_tf1, k_tf1 + 1, dtype=np.int32)\n",
    "            \n",
    "            if self.n_transforms  == 2 :\n",
    "                j_tf2 = 2*bs + pos_index \n",
    "                num_i5 = np.arange(j_tf2, j_tf2 + 1, dtype=np.int32)\n",
    "                \n",
    "                k_tf2 = (2*bs+ pos_index + n_parts*n_datasets) % (bs* (self.n_transforms + 1))\n",
    "                num_i6 = np.arange(k_tf2, k_tf2 + 1, dtype=np.int32)\n",
    "            \n",
    "        \n",
    "            #return num_i1\n",
    "            rem = int(num_i1) % (n_parts * n_datasets)\n",
    "            \n",
    "            # indexes of corresponding negative samples as per positive pair of samples.\n",
    "            den_index_net = np.arange(0, bs* (self.n_transforms + 1), dtype=np.int32)\n",
    "            \n",
    "            ind_l = []\n",
    "            # similar partition of same dataset starts at index rem\n",
    "            rem = int(num_i1) % (n_parts * n_datasets)\n",
    "            \n",
    "            # add to the list every similar partition of same dataset\n",
    "            if self.dataset_similar :\n",
    "                for not_neg_index in range(rem, bs* (self.n_transforms + 1), n_parts):\n",
    "                    ind_l.append(not_neg_index)\n",
    "            else :\n",
    "                for not_neg_index in range(rem, bs* (self.n_transforms + 1), n_parts * n_datasets):\n",
    "                    ind_l.append(not_neg_index)\n",
    "            \n",
    "            if self.within_dataset :\n",
    "                for i in range(bs * (self.n_transforms + 1)) :\n",
    "                    if ((i // n_parts) % n_datasets) != ((num_i1 // n_parts) % n_datasets) :\n",
    "                        ind_l.append(i)\n",
    "            # remove those similar images from the negative pairs\n",
    "            den_indexes = np.delete(den_index_net, ind_l)\n",
    "\n",
    "            # gather required positive samples x_1,x_2,x_3 for the numerator term\n",
    "            x_num_i1 = reg_pred[num_i1]\n",
    "            x_num_i2 = reg_pred[num_i2]\n",
    "            x_num_i3 = reg_pred[num_i3]\n",
    "            x_num_i4 = reg_pred[num_i4]\n",
    "            if self.n_transforms == 2:\n",
    "                x_num_i5 = reg_pred[num_i5]\n",
    "                x_num_i6 = reg_pred[num_i6]\n",
    "\n",
    "            # gather required negative samples x_1,x_2,x_3 for the denominator term\n",
    "            x_den = reg_pred[den_indexes]\n",
    "\n",
    "            # calculate cosine similarity score + global contrastive loss for each pair of positive images\n",
    "            # for positive pair (x_1,x_2) and for positive pair (x_2,x_1)\n",
    "            net_global_loss += self.compute_symmetrical_loss(x_num_i1, x_num_i2, x_den)\n",
    "            net_global_loss += self.compute_symmetrical_loss(x_num_i3, x_num_i4, x_den)\n",
    "            net_global_loss += self.compute_symmetrical_loss(x_num_i1, x_num_i3, x_den)\n",
    "            net_global_loss += self.compute_symmetrical_loss(x_num_i2, x_num_i4, x_den)\n",
    "            \n",
    "            if self.n_transforms == 2:\n",
    "                net_global_loss += self.compute_symmetrical_loss(x_num_i5, x_num_i6, x_den)\n",
    "                net_global_loss += self.compute_symmetrical_loss(x_num_i2, x_num_i5, x_den)\n",
    "                net_global_loss += self.compute_symmetrical_loss(x_num_i4, x_num_i6, x_den)\n",
    "           \n",
    "\n",
    "        net_global_loss /= (self.n_transforms * 3 * self.batch_size) \n",
    "        \n",
    "        \n",
    "        return net_global_loss.mean()\n",
    "        \n",
    "#         print('pos_index : ', pos_index)\n",
    "#         print('num_i1 : ', num_i1)\n",
    "#         print('num_i2 : ', num_i2)\n",
    "#         print('num_i3 : ', num_i3)\n",
    "#         print('num_i4 : ', num_i4)\n",
    "#         if self.n_transforms == 2:\n",
    "#             print('num_i5 ',num_i5)\n",
    "#             print('num_i6 ',num_i6)\n",
    "#         print('rem : ', rem)\n",
    "#         print('ind_l',ind_l)\n",
    "#         print('den_indexes',den_indexes, len(den_indexes))\n",
    "#         print('x_num_i1 shape : ', x_num_i1.shape )\n",
    "#         print('x_num_i2 shape : ', x_num_i2.shape )\n",
    "#         print('x_den shape : ', x_den.shape )\n",
    "\n"
   ]
  },
  {
   "cell_type": "code",
   "execution_count": 3,
   "id": "11d7dd0b",
   "metadata": {},
   "outputs": [
    {
     "name": "stderr",
     "output_type": "stream",
     "text": [
      "\r",
      "  0%|          | 0/9 [00:00<?, ?it/s]"
     ]
    },
    {
     "name": "stdout",
     "output_type": "stream",
     "text": [
      "Using device:  cpu\n",
      "Running model encoder_pretrain\n",
      "Parameters used : \n",
      "Pretraining\n",
      "loss :  global_d\n",
      "weight_loss :  1\n",
      "n_volumes :  4\n",
      "n_transforms :  2\n",
      "n_datasets :  3\n",
      "max_epochs :  10000\n",
      "max_steps :  2500\n",
      "batch size :  144\n",
      "temp_fac :  1\n",
      "save folder :  ./trained_models/pretrainings/global_dteeeeest/ACDC_HCP_Chaos_4volumesPerBatch\n",
      "Datasets used for pretraining :\n",
      "ACDC\n",
      "n vol in train :  69\n",
      "n vol in test :  30\n",
      "Chaos\n",
      "n vol in train :  15\n",
      "n vol in test :  5\n",
      "HCP\n",
      "n vol in train :  36\n",
      "n vol in test :  13\n",
      "Doing Train...\n",
      "Epoch 000\n"
     ]
    },
    {
     "name": "stderr",
     "output_type": "stream",
     "text": [
      "100%|██████████| 9/9 [01:26<00:00,  9.62s/it]\n",
      "  0%|          | 0/9 [00:00<?, ?it/s]"
     ]
    },
    {
     "name": "stdout",
     "output_type": "stream",
     "text": [
      "Current train loss: 10.264210\n",
      "Doing Train...\n",
      "Epoch 001\n"
     ]
    },
    {
     "name": "stderr",
     "output_type": "stream",
     "text": [
      "100%|██████████| 9/9 [01:26<00:00,  9.65s/it]\n",
      "  0%|          | 0/9 [00:00<?, ?it/s]"
     ]
    },
    {
     "name": "stdout",
     "output_type": "stream",
     "text": [
      "Current train loss: 9.511264\n",
      "Doing Train...\n",
      "Epoch 002\n"
     ]
    },
    {
     "name": "stderr",
     "output_type": "stream",
     "text": [
      "100%|██████████| 9/9 [01:28<00:00,  9.85s/it]\n",
      "  0%|          | 0/9 [00:00<?, ?it/s]"
     ]
    },
    {
     "name": "stdout",
     "output_type": "stream",
     "text": [
      "Current train loss: 9.420484\n",
      "Doing Train...\n",
      "Epoch 003\n"
     ]
    },
    {
     "name": "stderr",
     "output_type": "stream",
     "text": [
      "100%|██████████| 9/9 [01:27<00:00,  9.69s/it]\n",
      "  0%|          | 0/9 [00:00<?, ?it/s]"
     ]
    },
    {
     "name": "stdout",
     "output_type": "stream",
     "text": [
      "Current train loss: 9.404008\n",
      "Doing Train...\n",
      "Epoch 004\n"
     ]
    },
    {
     "name": "stderr",
     "output_type": "stream",
     "text": [
      "100%|██████████| 9/9 [01:26<00:00,  9.61s/it]\n",
      "  0%|          | 0/9 [00:00<?, ?it/s]"
     ]
    },
    {
     "name": "stdout",
     "output_type": "stream",
     "text": [
      "Current train loss: 9.374697\n",
      "Doing Train...\n",
      "Epoch 005\n"
     ]
    },
    {
     "name": "stderr",
     "output_type": "stream",
     "text": [
      "100%|██████████| 9/9 [01:26<00:00,  9.66s/it]\n",
      "  0%|          | 0/9 [00:00<?, ?it/s]"
     ]
    },
    {
     "name": "stdout",
     "output_type": "stream",
     "text": [
      "Current train loss: 9.350179\n",
      "Doing Train...\n",
      "Epoch 006\n"
     ]
    },
    {
     "name": "stderr",
     "output_type": "stream",
     "text": [
      "100%|██████████| 9/9 [01:30<00:00, 10.07s/it]\n",
      "  0%|          | 0/9 [00:00<?, ?it/s]"
     ]
    },
    {
     "name": "stdout",
     "output_type": "stream",
     "text": [
      "Current train loss: 9.350833\n",
      "Doing Train...\n",
      "Epoch 007\n"
     ]
    },
    {
     "name": "stderr",
     "output_type": "stream",
     "text": [
      "100%|██████████| 9/9 [01:28<00:00,  9.85s/it]\n",
      "  0%|          | 0/9 [00:00<?, ?it/s]"
     ]
    },
    {
     "name": "stdout",
     "output_type": "stream",
     "text": [
      "Current train loss: 9.336829\n",
      "Doing Train...\n",
      "Epoch 008\n"
     ]
    },
    {
     "name": "stderr",
     "output_type": "stream",
     "text": [
      "100%|██████████| 9/9 [01:28<00:00,  9.82s/it]\n",
      "  0%|          | 0/9 [00:00<?, ?it/s]"
     ]
    },
    {
     "name": "stdout",
     "output_type": "stream",
     "text": [
      "Current train loss: 9.327667\n",
      "Doing Train...\n",
      "Epoch 009\n"
     ]
    },
    {
     "name": "stderr",
     "output_type": "stream",
     "text": [
      "100%|██████████| 9/9 [01:27<00:00,  9.70s/it]\n",
      "  0%|          | 0/9 [00:00<?, ?it/s]"
     ]
    },
    {
     "name": "stdout",
     "output_type": "stream",
     "text": [
      "Current train loss: 9.342970\n",
      "Doing Train...\n",
      "Epoch 010\n"
     ]
    },
    {
     "name": "stderr",
     "output_type": "stream",
     "text": [
      "100%|██████████| 9/9 [01:27<00:00,  9.72s/it]\n",
      "  0%|          | 0/9 [00:00<?, ?it/s]"
     ]
    },
    {
     "name": "stdout",
     "output_type": "stream",
     "text": [
      "Current train loss: 9.347525\n",
      "Doing Train...\n",
      "Epoch 011\n"
     ]
    },
    {
     "name": "stderr",
     "output_type": "stream",
     "text": [
      "100%|██████████| 9/9 [01:27<00:00,  9.67s/it]\n",
      "  0%|          | 0/9 [00:00<?, ?it/s]"
     ]
    },
    {
     "name": "stdout",
     "output_type": "stream",
     "text": [
      "Current train loss: 9.325044\n",
      "Doing Train...\n",
      "Epoch 012\n"
     ]
    },
    {
     "name": "stderr",
     "output_type": "stream",
     "text": [
      "100%|██████████| 9/9 [01:27<00:00,  9.78s/it]\n",
      "  0%|          | 0/9 [00:00<?, ?it/s]"
     ]
    },
    {
     "name": "stdout",
     "output_type": "stream",
     "text": [
      "Current train loss: 9.293934\n",
      "Doing Train...\n",
      "Epoch 013\n"
     ]
    },
    {
     "name": "stderr",
     "output_type": "stream",
     "text": [
      "100%|██████████| 9/9 [01:26<00:00,  9.59s/it]\n",
      "  0%|          | 0/9 [00:00<?, ?it/s]"
     ]
    },
    {
     "name": "stdout",
     "output_type": "stream",
     "text": [
      "Current train loss: 9.321061\n",
      "Doing Train...\n",
      "Epoch 014\n"
     ]
    },
    {
     "name": "stderr",
     "output_type": "stream",
     "text": [
      "100%|██████████| 9/9 [01:27<00:00,  9.70s/it]\n",
      "  0%|          | 0/9 [00:00<?, ?it/s]"
     ]
    },
    {
     "name": "stdout",
     "output_type": "stream",
     "text": [
      "Current train loss: 9.314482\n",
      "Doing Train...\n",
      "Epoch 015\n"
     ]
    },
    {
     "name": "stderr",
     "output_type": "stream",
     "text": [
      "100%|██████████| 9/9 [01:29<00:00,  9.97s/it]\n",
      "  0%|          | 0/9 [00:00<?, ?it/s]"
     ]
    },
    {
     "name": "stdout",
     "output_type": "stream",
     "text": [
      "Current train loss: 9.301783\n",
      "Doing Train...\n",
      "Epoch 016\n"
     ]
    },
    {
     "name": "stderr",
     "output_type": "stream",
     "text": [
      "100%|██████████| 9/9 [01:28<00:00,  9.85s/it]\n",
      "  0%|          | 0/9 [00:00<?, ?it/s]"
     ]
    },
    {
     "name": "stdout",
     "output_type": "stream",
     "text": [
      "Current train loss: 9.295153\n",
      "Doing Train...\n",
      "Epoch 017\n"
     ]
    },
    {
     "name": "stderr",
     "output_type": "stream",
     "text": [
      "100%|██████████| 9/9 [01:27<00:00,  9.75s/it]\n",
      "  0%|          | 0/9 [00:00<?, ?it/s]"
     ]
    },
    {
     "name": "stdout",
     "output_type": "stream",
     "text": [
      "Current train loss: 9.313349\n",
      "Doing Train...\n",
      "Epoch 018\n"
     ]
    },
    {
     "name": "stderr",
     "output_type": "stream",
     "text": [
      "100%|██████████| 9/9 [01:27<00:00,  9.78s/it]\n",
      "  0%|          | 0/9 [00:00<?, ?it/s]"
     ]
    },
    {
     "name": "stdout",
     "output_type": "stream",
     "text": [
      "Current train loss: 9.288544\n",
      "Doing Train...\n",
      "Epoch 019\n"
     ]
    },
    {
     "name": "stderr",
     "output_type": "stream",
     "text": [
      "100%|██████████| 9/9 [01:28<00:00,  9.82s/it]\n",
      "  0%|          | 0/9 [00:00<?, ?it/s]"
     ]
    },
    {
     "name": "stdout",
     "output_type": "stream",
     "text": [
      "Current train loss: 9.282952\n",
      "Doing Train...\n",
      "Epoch 020\n"
     ]
    },
    {
     "name": "stderr",
     "output_type": "stream",
     "text": [
      "100%|██████████| 9/9 [01:28<00:00,  9.84s/it]\n",
      "  0%|          | 0/9 [00:00<?, ?it/s]"
     ]
    },
    {
     "name": "stdout",
     "output_type": "stream",
     "text": [
      "Current train loss: 9.279197\n",
      "Doing Train...\n",
      "Epoch 021\n"
     ]
    },
    {
     "name": "stderr",
     "output_type": "stream",
     "text": [
      "100%|██████████| 9/9 [01:28<00:00,  9.87s/it]\n",
      "  0%|          | 0/9 [00:00<?, ?it/s]"
     ]
    },
    {
     "name": "stdout",
     "output_type": "stream",
     "text": [
      "Current train loss: 9.277821\n",
      "Doing Train...\n",
      "Epoch 022\n"
     ]
    },
    {
     "name": "stderr",
     "output_type": "stream",
     "text": [
      "100%|██████████| 9/9 [01:27<00:00,  9.71s/it]\n",
      "  0%|          | 0/9 [00:00<?, ?it/s]"
     ]
    },
    {
     "name": "stdout",
     "output_type": "stream",
     "text": [
      "Current train loss: 9.284311\n",
      "Doing Train...\n",
      "Epoch 023\n"
     ]
    },
    {
     "name": "stderr",
     "output_type": "stream",
     "text": [
      "100%|██████████| 9/9 [01:27<00:00,  9.73s/it]\n",
      "  0%|          | 0/9 [00:00<?, ?it/s]"
     ]
    },
    {
     "name": "stdout",
     "output_type": "stream",
     "text": [
      "Current train loss: 9.262040\n",
      "Doing Train...\n",
      "Epoch 024\n"
     ]
    },
    {
     "name": "stderr",
     "output_type": "stream",
     "text": [
      "100%|██████████| 9/9 [01:27<00:00,  9.68s/it]\n",
      "  0%|          | 0/9 [00:00<?, ?it/s]"
     ]
    },
    {
     "name": "stdout",
     "output_type": "stream",
     "text": [
      "Current train loss: 9.274440\n",
      "Doing Train...\n",
      "Epoch 025\n"
     ]
    },
    {
     "name": "stderr",
     "output_type": "stream",
     "text": [
      "100%|██████████| 9/9 [01:25<00:00,  9.52s/it]\n",
      "  0%|          | 0/9 [00:00<?, ?it/s]"
     ]
    },
    {
     "name": "stdout",
     "output_type": "stream",
     "text": [
      "Current train loss: 9.264686\n",
      "Doing Train...\n",
      "Epoch 026\n"
     ]
    },
    {
     "name": "stderr",
     "output_type": "stream",
     "text": [
      "100%|██████████| 9/9 [01:27<00:00,  9.73s/it]\n",
      "  0%|          | 0/9 [00:00<?, ?it/s]"
     ]
    },
    {
     "name": "stdout",
     "output_type": "stream",
     "text": [
      "Current train loss: 9.275733\n",
      "Doing Train...\n",
      "Epoch 027\n"
     ]
    },
    {
     "name": "stderr",
     "output_type": "stream",
     "text": [
      "100%|██████████| 9/9 [01:28<00:00,  9.80s/it]\n",
      "  0%|          | 0/9 [00:00<?, ?it/s]"
     ]
    },
    {
     "name": "stdout",
     "output_type": "stream",
     "text": [
      "Current train loss: 9.279315\n",
      "Doing Train...\n",
      "Epoch 028\n"
     ]
    },
    {
     "name": "stderr",
     "output_type": "stream",
     "text": [
      "100%|██████████| 9/9 [01:27<00:00,  9.76s/it]\n",
      "  0%|          | 0/9 [00:00<?, ?it/s]"
     ]
    },
    {
     "name": "stdout",
     "output_type": "stream",
     "text": [
      "Current train loss: 9.260099\n",
      "Doing Train...\n",
      "Epoch 029\n"
     ]
    },
    {
     "name": "stderr",
     "output_type": "stream",
     "text": [
      "100%|██████████| 9/9 [01:27<00:00,  9.77s/it]\n",
      "  0%|          | 0/9 [00:00<?, ?it/s]"
     ]
    },
    {
     "name": "stdout",
     "output_type": "stream",
     "text": [
      "Current train loss: 9.253609\n",
      "Doing Train...\n",
      "Epoch 030\n"
     ]
    },
    {
     "name": "stderr",
     "output_type": "stream",
     "text": [
      "100%|██████████| 9/9 [01:27<00:00,  9.69s/it]\n",
      "  0%|          | 0/9 [00:00<?, ?it/s]"
     ]
    },
    {
     "name": "stdout",
     "output_type": "stream",
     "text": [
      "Current train loss: 9.267348\n",
      "Doing Train...\n",
      "Epoch 031\n"
     ]
    },
    {
     "name": "stderr",
     "output_type": "stream",
     "text": [
      "100%|██████████| 9/9 [01:28<00:00,  9.80s/it]\n",
      "  0%|          | 0/9 [00:00<?, ?it/s]"
     ]
    },
    {
     "name": "stdout",
     "output_type": "stream",
     "text": [
      "Current train loss: 9.258324\n",
      "Doing Train...\n",
      "Epoch 032\n"
     ]
    },
    {
     "name": "stderr",
     "output_type": "stream",
     "text": [
      "100%|██████████| 9/9 [01:28<00:00,  9.88s/it]\n",
      "  0%|          | 0/9 [00:00<?, ?it/s]"
     ]
    },
    {
     "name": "stdout",
     "output_type": "stream",
     "text": [
      "Current train loss: 9.280187\n",
      "Doing Train...\n",
      "Epoch 033\n"
     ]
    },
    {
     "name": "stderr",
     "output_type": "stream",
     "text": [
      "100%|██████████| 9/9 [01:27<00:00,  9.77s/it]\n",
      "  0%|          | 0/9 [00:00<?, ?it/s]"
     ]
    },
    {
     "name": "stdout",
     "output_type": "stream",
     "text": [
      "Current train loss: 9.262927\n",
      "Doing Train...\n",
      "Epoch 034\n"
     ]
    },
    {
     "name": "stderr",
     "output_type": "stream",
     "text": [
      "100%|██████████| 9/9 [01:28<00:00,  9.85s/it]\n",
      "  0%|          | 0/9 [00:00<?, ?it/s]"
     ]
    },
    {
     "name": "stdout",
     "output_type": "stream",
     "text": [
      "Current train loss: 9.271683\n",
      "Doing Train...\n",
      "Epoch 035\n"
     ]
    },
    {
     "name": "stderr",
     "output_type": "stream",
     "text": [
      "100%|██████████| 9/9 [01:29<00:00,  9.93s/it]\n",
      "  0%|          | 0/9 [00:00<?, ?it/s]"
     ]
    },
    {
     "name": "stdout",
     "output_type": "stream",
     "text": [
      "Current train loss: 9.300442\n",
      "Doing Train...\n",
      "Epoch 036\n"
     ]
    },
    {
     "name": "stderr",
     "output_type": "stream",
     "text": [
      "100%|██████████| 9/9 [01:30<00:00, 10.08s/it]\n",
      "  0%|          | 0/9 [00:00<?, ?it/s]"
     ]
    },
    {
     "name": "stdout",
     "output_type": "stream",
     "text": [
      "Current train loss: 9.285272\n",
      "Doing Train...\n",
      "Epoch 037\n"
     ]
    },
    {
     "name": "stderr",
     "output_type": "stream",
     "text": [
      "100%|██████████| 9/9 [01:30<00:00, 10.01s/it]\n",
      "  0%|          | 0/9 [00:00<?, ?it/s]"
     ]
    },
    {
     "name": "stdout",
     "output_type": "stream",
     "text": [
      "Current train loss: 9.278383\n",
      "Doing Train...\n",
      "Epoch 038\n"
     ]
    },
    {
     "name": "stderr",
     "output_type": "stream",
     "text": [
      "100%|██████████| 9/9 [01:33<00:00, 10.36s/it]\n",
      "  0%|          | 0/9 [00:00<?, ?it/s]"
     ]
    },
    {
     "name": "stdout",
     "output_type": "stream",
     "text": [
      "Current train loss: 9.263133\n",
      "Doing Train...\n",
      "Epoch 039\n"
     ]
    },
    {
     "name": "stderr",
     "output_type": "stream",
     "text": [
      "100%|██████████| 9/9 [01:31<00:00, 10.16s/it]\n",
      "  0%|          | 0/9 [00:00<?, ?it/s]"
     ]
    },
    {
     "name": "stdout",
     "output_type": "stream",
     "text": [
      "Current train loss: 9.299944\n",
      "Doing Train...\n",
      "Epoch 040\n"
     ]
    },
    {
     "name": "stderr",
     "output_type": "stream",
     "text": [
      "100%|██████████| 9/9 [01:31<00:00, 10.17s/it]\n",
      "  0%|          | 0/9 [00:00<?, ?it/s]"
     ]
    },
    {
     "name": "stdout",
     "output_type": "stream",
     "text": [
      "Current train loss: 9.286715\n",
      "Doing Train...\n",
      "Epoch 041\n"
     ]
    },
    {
     "name": "stderr",
     "output_type": "stream",
     "text": [
      "100%|██████████| 9/9 [01:30<00:00, 10.10s/it]\n",
      "  0%|          | 0/9 [00:00<?, ?it/s]"
     ]
    },
    {
     "name": "stdout",
     "output_type": "stream",
     "text": [
      "Current train loss: 9.299867\n",
      "Doing Train...\n",
      "Epoch 042\n"
     ]
    },
    {
     "name": "stderr",
     "output_type": "stream",
     "text": [
      "100%|██████████| 9/9 [01:27<00:00,  9.68s/it]\n",
      "  0%|          | 0/9 [00:00<?, ?it/s]"
     ]
    },
    {
     "name": "stdout",
     "output_type": "stream",
     "text": [
      "Current train loss: 9.289967\n",
      "Doing Train...\n",
      "Epoch 043\n"
     ]
    },
    {
     "name": "stderr",
     "output_type": "stream",
     "text": [
      "100%|██████████| 9/9 [01:27<00:00,  9.75s/it]\n",
      "  0%|          | 0/9 [00:00<?, ?it/s]"
     ]
    },
    {
     "name": "stdout",
     "output_type": "stream",
     "text": [
      "Current train loss: 9.282340\n",
      "Doing Train...\n",
      "Epoch 044\n"
     ]
    },
    {
     "name": "stderr",
     "output_type": "stream",
     "text": [
      "100%|██████████| 9/9 [01:27<00:00,  9.73s/it]\n",
      "  0%|          | 0/9 [00:00<?, ?it/s]"
     ]
    },
    {
     "name": "stdout",
     "output_type": "stream",
     "text": [
      "Current train loss: 9.278902\n",
      "Doing Train...\n",
      "Epoch 045\n"
     ]
    },
    {
     "name": "stderr",
     "output_type": "stream",
     "text": [
      "100%|██████████| 9/9 [01:27<00:00,  9.68s/it]\n",
      "  0%|          | 0/9 [00:00<?, ?it/s]"
     ]
    },
    {
     "name": "stdout",
     "output_type": "stream",
     "text": [
      "Current train loss: 9.288506\n",
      "Doing Train...\n",
      "Epoch 046\n"
     ]
    },
    {
     "name": "stderr",
     "output_type": "stream",
     "text": [
      "100%|██████████| 9/9 [01:28<00:00,  9.83s/it]\n",
      "  0%|          | 0/9 [00:00<?, ?it/s]"
     ]
    },
    {
     "name": "stdout",
     "output_type": "stream",
     "text": [
      "Current train loss: 9.261261\n",
      "Doing Train...\n",
      "Epoch 047\n"
     ]
    },
    {
     "name": "stderr",
     "output_type": "stream",
     "text": [
      "100%|██████████| 9/9 [01:28<00:00,  9.82s/it]\n",
      "  0%|          | 0/9 [00:00<?, ?it/s]"
     ]
    },
    {
     "name": "stdout",
     "output_type": "stream",
     "text": [
      "Current train loss: 9.276837\n",
      "Doing Train...\n",
      "Epoch 048\n"
     ]
    },
    {
     "name": "stderr",
     "output_type": "stream",
     "text": [
      "100%|██████████| 9/9 [01:25<00:00,  9.52s/it]\n",
      "  0%|          | 0/9 [00:00<?, ?it/s]"
     ]
    },
    {
     "name": "stdout",
     "output_type": "stream",
     "text": [
      "Current train loss: 9.276455\n",
      "Doing Train...\n",
      "Epoch 049\n"
     ]
    },
    {
     "name": "stderr",
     "output_type": "stream",
     "text": [
      "100%|██████████| 9/9 [01:27<00:00,  9.70s/it]\n",
      "  0%|          | 0/3 [00:00<?, ?it/s]"
     ]
    },
    {
     "name": "stdout",
     "output_type": "stream",
     "text": [
      "Current train loss: 9.270371\n",
      "Doing Test...\n"
     ]
    },
    {
     "name": "stderr",
     "output_type": "stream",
     "text": [
      "100%|██████████| 3/3 [00:18<00:00,  6.11s/it]\n",
      "  0%|          | 0/9 [00:00<?, ?it/s]"
     ]
    },
    {
     "name": "stdout",
     "output_type": "stream",
     "text": [
      "Current test loss: 9.341480\n",
      "Doing Train...\n",
      "Epoch 050\n"
     ]
    },
    {
     "name": "stderr",
     "output_type": "stream",
     "text": [
      "100%|██████████| 9/9 [01:26<00:00,  9.61s/it]\n",
      "  0%|          | 0/9 [00:00<?, ?it/s]"
     ]
    },
    {
     "name": "stdout",
     "output_type": "stream",
     "text": [
      "Current train loss: 9.280127\n",
      "Doing Train...\n",
      "Epoch 051\n"
     ]
    },
    {
     "name": "stderr",
     "output_type": "stream",
     "text": [
      "100%|██████████| 9/9 [01:27<00:00,  9.77s/it]\n",
      "  0%|          | 0/9 [00:00<?, ?it/s]"
     ]
    },
    {
     "name": "stdout",
     "output_type": "stream",
     "text": [
      "Current train loss: 9.285686\n",
      "Doing Train...\n",
      "Epoch 052\n"
     ]
    },
    {
     "name": "stderr",
     "output_type": "stream",
     "text": [
      "100%|██████████| 9/9 [01:27<00:00,  9.74s/it]\n",
      "  0%|          | 0/9 [00:00<?, ?it/s]"
     ]
    },
    {
     "name": "stdout",
     "output_type": "stream",
     "text": [
      "Current train loss: 9.272684\n",
      "Doing Train...\n",
      "Epoch 053\n"
     ]
    },
    {
     "name": "stderr",
     "output_type": "stream",
     "text": [
      "100%|██████████| 9/9 [01:26<00:00,  9.62s/it]\n",
      "  0%|          | 0/9 [00:00<?, ?it/s]"
     ]
    },
    {
     "name": "stdout",
     "output_type": "stream",
     "text": [
      "Current train loss: 9.285613\n",
      "Doing Train...\n",
      "Epoch 054\n"
     ]
    },
    {
     "name": "stderr",
     "output_type": "stream",
     "text": [
      "100%|██████████| 9/9 [01:26<00:00,  9.60s/it]\n",
      "  0%|          | 0/9 [00:00<?, ?it/s]"
     ]
    },
    {
     "name": "stdout",
     "output_type": "stream",
     "text": [
      "Current train loss: 9.261217\n",
      "Doing Train...\n",
      "Epoch 055\n"
     ]
    },
    {
     "name": "stderr",
     "output_type": "stream",
     "text": [
      "100%|██████████| 9/9 [01:28<00:00,  9.78s/it]\n",
      "  0%|          | 0/9 [00:00<?, ?it/s]"
     ]
    },
    {
     "name": "stdout",
     "output_type": "stream",
     "text": [
      "Current train loss: 9.259436\n",
      "Doing Train...\n",
      "Epoch 056\n"
     ]
    },
    {
     "name": "stderr",
     "output_type": "stream",
     "text": [
      "100%|██████████| 9/9 [01:28<00:00,  9.83s/it]\n",
      "  0%|          | 0/9 [00:00<?, ?it/s]"
     ]
    },
    {
     "name": "stdout",
     "output_type": "stream",
     "text": [
      "Current train loss: 9.271748\n",
      "Doing Train...\n",
      "Epoch 057\n"
     ]
    },
    {
     "name": "stderr",
     "output_type": "stream",
     "text": [
      "100%|██████████| 9/9 [01:26<00:00,  9.65s/it]\n",
      "  0%|          | 0/9 [00:00<?, ?it/s]"
     ]
    },
    {
     "name": "stdout",
     "output_type": "stream",
     "text": [
      "Current train loss: 9.244383\n",
      "Doing Train...\n",
      "Epoch 058\n"
     ]
    },
    {
     "name": "stderr",
     "output_type": "stream",
     "text": [
      "100%|██████████| 9/9 [01:26<00:00,  9.57s/it]\n",
      "  0%|          | 0/9 [00:00<?, ?it/s]"
     ]
    },
    {
     "name": "stdout",
     "output_type": "stream",
     "text": [
      "Current train loss: 9.264755\n",
      "Doing Train...\n",
      "Epoch 059\n"
     ]
    },
    {
     "name": "stderr",
     "output_type": "stream",
     "text": [
      "100%|██████████| 9/9 [01:26<00:00,  9.60s/it]\n",
      "  0%|          | 0/9 [00:00<?, ?it/s]"
     ]
    },
    {
     "name": "stdout",
     "output_type": "stream",
     "text": [
      "Current train loss: 9.263009\n",
      "Doing Train...\n",
      "Epoch 060\n"
     ]
    },
    {
     "name": "stderr",
     "output_type": "stream",
     "text": [
      "100%|██████████| 9/9 [01:25<00:00,  9.53s/it]\n",
      "  0%|          | 0/9 [00:00<?, ?it/s]"
     ]
    },
    {
     "name": "stdout",
     "output_type": "stream",
     "text": [
      "Current train loss: 9.256483\n",
      "Doing Train...\n",
      "Epoch 061\n"
     ]
    },
    {
     "name": "stderr",
     "output_type": "stream",
     "text": [
      "100%|██████████| 9/9 [01:27<00:00,  9.75s/it]\n",
      "  0%|          | 0/9 [00:00<?, ?it/s]"
     ]
    },
    {
     "name": "stdout",
     "output_type": "stream",
     "text": [
      "Current train loss: 9.271047\n",
      "Doing Train...\n",
      "Epoch 062\n"
     ]
    },
    {
     "name": "stderr",
     "output_type": "stream",
     "text": [
      "100%|██████████| 9/9 [01:26<00:00,  9.60s/it]\n",
      "  0%|          | 0/9 [00:00<?, ?it/s]"
     ]
    },
    {
     "name": "stdout",
     "output_type": "stream",
     "text": [
      "Current train loss: 9.265610\n",
      "Doing Train...\n",
      "Epoch 063\n"
     ]
    },
    {
     "name": "stderr",
     "output_type": "stream",
     "text": [
      "100%|██████████| 9/9 [01:26<00:00,  9.64s/it]\n",
      "  0%|          | 0/9 [00:00<?, ?it/s]"
     ]
    },
    {
     "name": "stdout",
     "output_type": "stream",
     "text": [
      "Current train loss: 9.285520\n",
      "Doing Train...\n",
      "Epoch 064\n"
     ]
    },
    {
     "name": "stderr",
     "output_type": "stream",
     "text": [
      "100%|██████████| 9/9 [01:27<00:00,  9.73s/it]\n",
      "  0%|          | 0/9 [00:00<?, ?it/s]"
     ]
    },
    {
     "name": "stdout",
     "output_type": "stream",
     "text": [
      "Current train loss: 9.281474\n",
      "Doing Train...\n",
      "Epoch 065\n"
     ]
    },
    {
     "name": "stderr",
     "output_type": "stream",
     "text": [
      "100%|██████████| 9/9 [01:25<00:00,  9.51s/it]\n",
      "  0%|          | 0/9 [00:00<?, ?it/s]"
     ]
    },
    {
     "name": "stdout",
     "output_type": "stream",
     "text": [
      "Current train loss: 9.265736\n",
      "Doing Train...\n",
      "Epoch 066\n"
     ]
    },
    {
     "name": "stderr",
     "output_type": "stream",
     "text": [
      "100%|██████████| 9/9 [01:26<00:00,  9.63s/it]\n",
      "  0%|          | 0/9 [00:00<?, ?it/s]"
     ]
    },
    {
     "name": "stdout",
     "output_type": "stream",
     "text": [
      "Current train loss: 9.257492\n",
      "Doing Train...\n",
      "Epoch 067\n"
     ]
    },
    {
     "name": "stderr",
     "output_type": "stream",
     "text": [
      "100%|██████████| 9/9 [01:26<00:00,  9.60s/it]\n",
      "  0%|          | 0/9 [00:00<?, ?it/s]"
     ]
    },
    {
     "name": "stdout",
     "output_type": "stream",
     "text": [
      "Current train loss: 9.251453\n",
      "Doing Train...\n",
      "Epoch 068\n"
     ]
    },
    {
     "name": "stderr",
     "output_type": "stream",
     "text": [
      "100%|██████████| 9/9 [01:25<00:00,  9.51s/it]\n",
      "  0%|          | 0/9 [00:00<?, ?it/s]"
     ]
    },
    {
     "name": "stdout",
     "output_type": "stream",
     "text": [
      "Current train loss: 9.255486\n",
      "Doing Train...\n",
      "Epoch 069\n"
     ]
    },
    {
     "name": "stderr",
     "output_type": "stream",
     "text": [
      "100%|██████████| 9/9 [01:34<00:00, 10.49s/it]\n",
      "  0%|          | 0/9 [00:00<?, ?it/s]"
     ]
    },
    {
     "name": "stdout",
     "output_type": "stream",
     "text": [
      "Current train loss: 9.272282\n",
      "Doing Train...\n",
      "Epoch 070\n"
     ]
    },
    {
     "name": "stderr",
     "output_type": "stream",
     "text": [
      "100%|██████████| 9/9 [01:32<00:00, 10.32s/it]\n",
      "  0%|          | 0/9 [00:00<?, ?it/s]"
     ]
    },
    {
     "name": "stdout",
     "output_type": "stream",
     "text": [
      "Current train loss: 9.259980\n",
      "Doing Train...\n",
      "Epoch 071\n"
     ]
    },
    {
     "name": "stderr",
     "output_type": "stream",
     "text": [
      "100%|██████████| 9/9 [01:37<00:00, 10.82s/it]\n",
      "  0%|          | 0/9 [00:00<?, ?it/s]"
     ]
    },
    {
     "name": "stdout",
     "output_type": "stream",
     "text": [
      "Current train loss: 9.259059\n",
      "Doing Train...\n",
      "Epoch 072\n"
     ]
    },
    {
     "name": "stderr",
     "output_type": "stream",
     "text": [
      "100%|██████████| 9/9 [01:33<00:00, 10.43s/it]\n",
      "  0%|          | 0/9 [00:00<?, ?it/s]"
     ]
    },
    {
     "name": "stdout",
     "output_type": "stream",
     "text": [
      "Current train loss: 9.256270\n",
      "Doing Train...\n",
      "Epoch 073\n"
     ]
    },
    {
     "name": "stderr",
     "output_type": "stream",
     "text": [
      "100%|██████████| 9/9 [01:33<00:00, 10.40s/it]\n",
      "  0%|          | 0/9 [00:00<?, ?it/s]"
     ]
    },
    {
     "name": "stdout",
     "output_type": "stream",
     "text": [
      "Current train loss: 9.266417\n",
      "Doing Train...\n",
      "Epoch 074\n"
     ]
    },
    {
     "name": "stderr",
     "output_type": "stream",
     "text": [
      "100%|██████████| 9/9 [01:34<00:00, 10.46s/it]\n",
      "  0%|          | 0/9 [00:00<?, ?it/s]"
     ]
    },
    {
     "name": "stdout",
     "output_type": "stream",
     "text": [
      "Current train loss: 9.268261\n",
      "Doing Train...\n",
      "Epoch 075\n"
     ]
    },
    {
     "name": "stderr",
     "output_type": "stream",
     "text": [
      "100%|██████████| 9/9 [01:29<00:00,  9.96s/it]\n",
      "  0%|          | 0/9 [00:00<?, ?it/s]"
     ]
    },
    {
     "name": "stdout",
     "output_type": "stream",
     "text": [
      "Current train loss: 9.268843\n",
      "Doing Train...\n",
      "Epoch 076\n"
     ]
    },
    {
     "name": "stderr",
     "output_type": "stream",
     "text": [
      "100%|██████████| 9/9 [01:26<00:00,  9.61s/it]\n",
      "  0%|          | 0/9 [00:00<?, ?it/s]"
     ]
    },
    {
     "name": "stdout",
     "output_type": "stream",
     "text": [
      "Current train loss: 9.267251\n",
      "Doing Train...\n",
      "Epoch 077\n"
     ]
    },
    {
     "name": "stderr",
     "output_type": "stream",
     "text": [
      "100%|██████████| 9/9 [01:26<00:00,  9.56s/it]\n",
      "  0%|          | 0/9 [00:00<?, ?it/s]"
     ]
    },
    {
     "name": "stdout",
     "output_type": "stream",
     "text": [
      "Current train loss: 9.258313\n",
      "Doing Train...\n",
      "Epoch 078\n"
     ]
    },
    {
     "name": "stderr",
     "output_type": "stream",
     "text": [
      "100%|██████████| 9/9 [01:27<00:00,  9.73s/it]\n",
      "  0%|          | 0/9 [00:00<?, ?it/s]"
     ]
    },
    {
     "name": "stdout",
     "output_type": "stream",
     "text": [
      "Current train loss: 9.269368\n",
      "Doing Train...\n",
      "Epoch 079\n"
     ]
    },
    {
     "name": "stderr",
     "output_type": "stream",
     "text": [
      "100%|██████████| 9/9 [01:25<00:00,  9.55s/it]\n",
      "  0%|          | 0/9 [00:00<?, ?it/s]"
     ]
    },
    {
     "name": "stdout",
     "output_type": "stream",
     "text": [
      "Current train loss: 9.264108\n",
      "Doing Train...\n",
      "Epoch 080\n"
     ]
    },
    {
     "name": "stderr",
     "output_type": "stream",
     "text": [
      "100%|██████████| 9/9 [01:26<00:00,  9.62s/it]\n",
      "  0%|          | 0/9 [00:00<?, ?it/s]"
     ]
    },
    {
     "name": "stdout",
     "output_type": "stream",
     "text": [
      "Current train loss: 9.249500\n",
      "Doing Train...\n",
      "Epoch 081\n"
     ]
    },
    {
     "name": "stderr",
     "output_type": "stream",
     "text": [
      "100%|██████████| 9/9 [01:27<00:00,  9.72s/it]\n",
      "  0%|          | 0/9 [00:00<?, ?it/s]"
     ]
    },
    {
     "name": "stdout",
     "output_type": "stream",
     "text": [
      "Current train loss: 9.240760\n",
      "Doing Train...\n",
      "Epoch 082\n"
     ]
    },
    {
     "name": "stderr",
     "output_type": "stream",
     "text": [
      "100%|██████████| 9/9 [01:26<00:00,  9.61s/it]\n",
      "  0%|          | 0/9 [00:00<?, ?it/s]"
     ]
    },
    {
     "name": "stdout",
     "output_type": "stream",
     "text": [
      "Current train loss: 9.233690\n",
      "Doing Train...\n",
      "Epoch 083\n"
     ]
    },
    {
     "name": "stderr",
     "output_type": "stream",
     "text": [
      "100%|██████████| 9/9 [01:27<00:00,  9.73s/it]\n",
      "  0%|          | 0/9 [00:00<?, ?it/s]"
     ]
    },
    {
     "name": "stdout",
     "output_type": "stream",
     "text": [
      "Current train loss: 9.243425\n",
      "Doing Train...\n",
      "Epoch 084\n"
     ]
    },
    {
     "name": "stderr",
     "output_type": "stream",
     "text": [
      "100%|██████████| 9/9 [01:27<00:00,  9.75s/it]\n",
      "  0%|          | 0/9 [00:00<?, ?it/s]"
     ]
    },
    {
     "name": "stdout",
     "output_type": "stream",
     "text": [
      "Current train loss: 9.248969\n",
      "Doing Train...\n",
      "Epoch 085\n"
     ]
    },
    {
     "name": "stderr",
     "output_type": "stream",
     "text": [
      "100%|██████████| 9/9 [01:26<00:00,  9.59s/it]\n",
      "  0%|          | 0/9 [00:00<?, ?it/s]"
     ]
    },
    {
     "name": "stdout",
     "output_type": "stream",
     "text": [
      "Current train loss: 9.246314\n",
      "Doing Train...\n",
      "Epoch 086\n"
     ]
    },
    {
     "name": "stderr",
     "output_type": "stream",
     "text": [
      "100%|██████████| 9/9 [01:27<00:00,  9.74s/it]\n",
      "  0%|          | 0/9 [00:00<?, ?it/s]"
     ]
    },
    {
     "name": "stdout",
     "output_type": "stream",
     "text": [
      "Current train loss: 9.243386\n",
      "Doing Train...\n",
      "Epoch 087\n"
     ]
    },
    {
     "name": "stderr",
     "output_type": "stream",
     "text": [
      "100%|██████████| 9/9 [01:25<00:00,  9.49s/it]\n",
      "  0%|          | 0/9 [00:00<?, ?it/s]"
     ]
    },
    {
     "name": "stdout",
     "output_type": "stream",
     "text": [
      "Current train loss: 9.238436\n",
      "Doing Train...\n",
      "Epoch 088\n"
     ]
    },
    {
     "name": "stderr",
     "output_type": "stream",
     "text": [
      "100%|██████████| 9/9 [01:25<00:00,  9.54s/it]\n",
      "  0%|          | 0/9 [00:00<?, ?it/s]"
     ]
    },
    {
     "name": "stdout",
     "output_type": "stream",
     "text": [
      "Current train loss: 9.253185\n",
      "Doing Train...\n",
      "Epoch 089\n"
     ]
    },
    {
     "name": "stderr",
     "output_type": "stream",
     "text": [
      "100%|██████████| 9/9 [01:27<00:00,  9.67s/it]\n",
      "  0%|          | 0/9 [00:00<?, ?it/s]"
     ]
    },
    {
     "name": "stdout",
     "output_type": "stream",
     "text": [
      "Current train loss: 9.245805\n",
      "Doing Train...\n",
      "Epoch 090\n"
     ]
    },
    {
     "name": "stderr",
     "output_type": "stream",
     "text": [
      "100%|██████████| 9/9 [01:27<00:00,  9.70s/it]\n",
      "  0%|          | 0/9 [00:00<?, ?it/s]"
     ]
    },
    {
     "name": "stdout",
     "output_type": "stream",
     "text": [
      "Current train loss: 9.274235\n",
      "Doing Train...\n",
      "Epoch 091\n"
     ]
    },
    {
     "name": "stderr",
     "output_type": "stream",
     "text": [
      "100%|██████████| 9/9 [01:28<00:00,  9.79s/it]\n",
      "  0%|          | 0/9 [00:00<?, ?it/s]"
     ]
    },
    {
     "name": "stdout",
     "output_type": "stream",
     "text": [
      "Current train loss: 9.258674\n",
      "Doing Train...\n",
      "Epoch 092\n"
     ]
    },
    {
     "name": "stderr",
     "output_type": "stream",
     "text": [
      "100%|██████████| 9/9 [01:29<00:00,  9.94s/it]\n",
      "  0%|          | 0/9 [00:00<?, ?it/s]"
     ]
    },
    {
     "name": "stdout",
     "output_type": "stream",
     "text": [
      "Current train loss: 9.265414\n",
      "Doing Train...\n",
      "Epoch 093\n"
     ]
    },
    {
     "name": "stderr",
     "output_type": "stream",
     "text": [
      "100%|██████████| 9/9 [01:29<00:00,  9.93s/it]\n",
      "  0%|          | 0/9 [00:00<?, ?it/s]"
     ]
    },
    {
     "name": "stdout",
     "output_type": "stream",
     "text": [
      "Current train loss: 9.251668\n",
      "Doing Train...\n",
      "Epoch 094\n"
     ]
    },
    {
     "name": "stderr",
     "output_type": "stream",
     "text": [
      "100%|██████████| 9/9 [01:26<00:00,  9.57s/it]\n",
      "  0%|          | 0/9 [00:00<?, ?it/s]"
     ]
    },
    {
     "name": "stdout",
     "output_type": "stream",
     "text": [
      "Current train loss: 9.241813\n",
      "Doing Train...\n",
      "Epoch 095\n"
     ]
    },
    {
     "name": "stderr",
     "output_type": "stream",
     "text": [
      "100%|██████████| 9/9 [01:26<00:00,  9.60s/it]\n",
      "  0%|          | 0/9 [00:00<?, ?it/s]"
     ]
    },
    {
     "name": "stdout",
     "output_type": "stream",
     "text": [
      "Current train loss: 9.260283\n",
      "Doing Train...\n",
      "Epoch 096\n"
     ]
    },
    {
     "name": "stderr",
     "output_type": "stream",
     "text": [
      "100%|██████████| 9/9 [01:36<00:00, 10.70s/it]\n",
      "  0%|          | 0/9 [00:00<?, ?it/s]"
     ]
    },
    {
     "name": "stdout",
     "output_type": "stream",
     "text": [
      "Current train loss: 9.263645\n",
      "Doing Train...\n",
      "Epoch 097\n"
     ]
    },
    {
     "name": "stderr",
     "output_type": "stream",
     "text": [
      "100%|██████████| 9/9 [01:40<00:00, 11.13s/it]\n",
      "  0%|          | 0/9 [00:00<?, ?it/s]"
     ]
    },
    {
     "name": "stdout",
     "output_type": "stream",
     "text": [
      "Current train loss: 9.248678\n",
      "Doing Train...\n",
      "Epoch 098\n"
     ]
    },
    {
     "name": "stderr",
     "output_type": "stream",
     "text": [
      "100%|██████████| 9/9 [01:38<00:00, 10.92s/it]\n",
      "  0%|          | 0/9 [00:00<?, ?it/s]"
     ]
    },
    {
     "name": "stdout",
     "output_type": "stream",
     "text": [
      "Current train loss: 9.250555\n",
      "Doing Train...\n",
      "Epoch 099\n"
     ]
    },
    {
     "name": "stderr",
     "output_type": "stream",
     "text": [
      "100%|██████████| 9/9 [01:38<00:00, 10.98s/it]\n",
      "  0%|          | 0/3 [00:00<?, ?it/s]"
     ]
    },
    {
     "name": "stdout",
     "output_type": "stream",
     "text": [
      "Current train loss: 9.260474\n",
      "Doing Test...\n"
     ]
    },
    {
     "name": "stderr",
     "output_type": "stream",
     "text": [
      "100%|██████████| 3/3 [00:17<00:00,  5.82s/it]\n",
      "  0%|          | 0/9 [00:00<?, ?it/s]"
     ]
    },
    {
     "name": "stdout",
     "output_type": "stream",
     "text": [
      "Current test loss: 9.380847\n",
      "Doing Train...\n",
      "Epoch 100\n"
     ]
    },
    {
     "name": "stderr",
     "output_type": "stream",
     "text": [
      "100%|██████████| 9/9 [01:38<00:00, 10.99s/it]\n",
      "  0%|          | 0/9 [00:00<?, ?it/s]"
     ]
    },
    {
     "name": "stdout",
     "output_type": "stream",
     "text": [
      "Current train loss: 9.256890\n",
      "Doing Train...\n",
      "Epoch 101\n"
     ]
    },
    {
     "name": "stderr",
     "output_type": "stream",
     "text": [
      "100%|██████████| 9/9 [01:38<00:00, 10.91s/it]\n",
      "  0%|          | 0/9 [00:00<?, ?it/s]"
     ]
    },
    {
     "name": "stdout",
     "output_type": "stream",
     "text": [
      "Current train loss: 9.236542\n",
      "Doing Train...\n",
      "Epoch 102\n"
     ]
    },
    {
     "name": "stderr",
     "output_type": "stream",
     "text": [
      "100%|██████████| 9/9 [01:29<00:00,  9.92s/it]\n",
      "  0%|          | 0/9 [00:00<?, ?it/s]"
     ]
    },
    {
     "name": "stdout",
     "output_type": "stream",
     "text": [
      "Current train loss: 9.245588\n",
      "Doing Train...\n",
      "Epoch 103\n"
     ]
    },
    {
     "name": "stderr",
     "output_type": "stream",
     "text": [
      "100%|██████████| 9/9 [01:29<00:00,  9.97s/it]\n",
      "  0%|          | 0/9 [00:00<?, ?it/s]"
     ]
    },
    {
     "name": "stdout",
     "output_type": "stream",
     "text": [
      "Current train loss: 9.250821\n",
      "Doing Train...\n",
      "Epoch 104\n"
     ]
    },
    {
     "name": "stderr",
     "output_type": "stream",
     "text": [
      "100%|██████████| 9/9 [01:28<00:00,  9.89s/it]\n",
      "  0%|          | 0/9 [00:00<?, ?it/s]"
     ]
    },
    {
     "name": "stdout",
     "output_type": "stream",
     "text": [
      "Current train loss: 9.237344\n",
      "Doing Train...\n",
      "Epoch 105\n"
     ]
    },
    {
     "name": "stderr",
     "output_type": "stream",
     "text": [
      "100%|██████████| 9/9 [01:29<00:00,  9.99s/it]\n",
      "  0%|          | 0/9 [00:00<?, ?it/s]"
     ]
    },
    {
     "name": "stdout",
     "output_type": "stream",
     "text": [
      "Current train loss: 9.238779\n",
      "Doing Train...\n",
      "Epoch 106\n"
     ]
    },
    {
     "name": "stderr",
     "output_type": "stream",
     "text": [
      "100%|██████████| 9/9 [01:27<00:00,  9.76s/it]\n",
      "  0%|          | 0/9 [00:00<?, ?it/s]"
     ]
    },
    {
     "name": "stdout",
     "output_type": "stream",
     "text": [
      "Current train loss: 9.274759\n",
      "Doing Train...\n",
      "Epoch 107\n"
     ]
    },
    {
     "name": "stderr",
     "output_type": "stream",
     "text": [
      "100%|██████████| 9/9 [01:29<00:00,  9.90s/it]\n",
      "  0%|          | 0/9 [00:00<?, ?it/s]"
     ]
    },
    {
     "name": "stdout",
     "output_type": "stream",
     "text": [
      "Current train loss: 9.246539\n",
      "Doing Train...\n",
      "Epoch 108\n"
     ]
    },
    {
     "name": "stderr",
     "output_type": "stream",
     "text": [
      "100%|██████████| 9/9 [01:28<00:00,  9.83s/it]\n",
      "  0%|          | 0/9 [00:00<?, ?it/s]"
     ]
    },
    {
     "name": "stdout",
     "output_type": "stream",
     "text": [
      "Current train loss: 9.258449\n",
      "Doing Train...\n",
      "Epoch 109\n"
     ]
    },
    {
     "name": "stderr",
     "output_type": "stream",
     "text": [
      "100%|██████████| 9/9 [01:25<00:00,  9.51s/it]\n",
      "  0%|          | 0/9 [00:00<?, ?it/s]"
     ]
    },
    {
     "name": "stdout",
     "output_type": "stream",
     "text": [
      "Current train loss: 9.243851\n",
      "Doing Train...\n",
      "Epoch 110\n"
     ]
    },
    {
     "name": "stderr",
     "output_type": "stream",
     "text": [
      "100%|██████████| 9/9 [01:25<00:00,  9.48s/it]\n",
      "  0%|          | 0/9 [00:00<?, ?it/s]"
     ]
    },
    {
     "name": "stdout",
     "output_type": "stream",
     "text": [
      "Current train loss: 9.257340\n",
      "Doing Train...\n",
      "Epoch 111\n"
     ]
    },
    {
     "name": "stderr",
     "output_type": "stream",
     "text": [
      "100%|██████████| 9/9 [01:26<00:00,  9.63s/it]\n",
      "  0%|          | 0/9 [00:00<?, ?it/s]"
     ]
    },
    {
     "name": "stdout",
     "output_type": "stream",
     "text": [
      "Current train loss: 9.226660\n",
      "Doing Train...\n",
      "Epoch 112\n"
     ]
    },
    {
     "name": "stderr",
     "output_type": "stream",
     "text": [
      "100%|██████████| 9/9 [01:26<00:00,  9.66s/it]\n",
      "  0%|          | 0/9 [00:00<?, ?it/s]"
     ]
    },
    {
     "name": "stdout",
     "output_type": "stream",
     "text": [
      "Current train loss: 9.235388\n",
      "Doing Train...\n",
      "Epoch 113\n"
     ]
    },
    {
     "name": "stderr",
     "output_type": "stream",
     "text": [
      "100%|██████████| 9/9 [01:25<00:00,  9.54s/it]\n",
      "  0%|          | 0/9 [00:00<?, ?it/s]"
     ]
    },
    {
     "name": "stdout",
     "output_type": "stream",
     "text": [
      "Current train loss: 9.235159\n",
      "Doing Train...\n",
      "Epoch 114\n"
     ]
    },
    {
     "name": "stderr",
     "output_type": "stream",
     "text": [
      "100%|██████████| 9/9 [01:26<00:00,  9.66s/it]\n",
      "  0%|          | 0/9 [00:00<?, ?it/s]"
     ]
    },
    {
     "name": "stdout",
     "output_type": "stream",
     "text": [
      "Current train loss: 9.251145\n",
      "Doing Train...\n",
      "Epoch 115\n"
     ]
    },
    {
     "name": "stderr",
     "output_type": "stream",
     "text": [
      "100%|██████████| 9/9 [01:27<00:00,  9.78s/it]\n",
      "  0%|          | 0/9 [00:00<?, ?it/s]"
     ]
    },
    {
     "name": "stdout",
     "output_type": "stream",
     "text": [
      "Current train loss: 9.229083\n",
      "Doing Train...\n",
      "Epoch 116\n"
     ]
    },
    {
     "name": "stderr",
     "output_type": "stream",
     "text": [
      "100%|██████████| 9/9 [01:26<00:00,  9.57s/it]\n",
      "  0%|          | 0/9 [00:00<?, ?it/s]"
     ]
    },
    {
     "name": "stdout",
     "output_type": "stream",
     "text": [
      "Current train loss: 9.234138\n",
      "Doing Train...\n",
      "Epoch 117\n"
     ]
    },
    {
     "name": "stderr",
     "output_type": "stream",
     "text": [
      "100%|██████████| 9/9 [01:28<00:00,  9.84s/it]\n",
      "  0%|          | 0/9 [00:00<?, ?it/s]"
     ]
    },
    {
     "name": "stdout",
     "output_type": "stream",
     "text": [
      "Current train loss: 9.250215\n",
      "Doing Train...\n",
      "Epoch 118\n"
     ]
    },
    {
     "name": "stderr",
     "output_type": "stream",
     "text": [
      "100%|██████████| 9/9 [01:29<00:00,  9.90s/it]\n",
      "  0%|          | 0/9 [00:00<?, ?it/s]"
     ]
    },
    {
     "name": "stdout",
     "output_type": "stream",
     "text": [
      "Current train loss: 9.242299\n",
      "Doing Train...\n",
      "Epoch 119\n"
     ]
    },
    {
     "name": "stderr",
     "output_type": "stream",
     "text": [
      "100%|██████████| 9/9 [01:28<00:00,  9.83s/it]\n",
      "  0%|          | 0/9 [00:00<?, ?it/s]"
     ]
    },
    {
     "name": "stdout",
     "output_type": "stream",
     "text": [
      "Current train loss: 9.228314\n",
      "Doing Train...\n",
      "Epoch 120\n"
     ]
    },
    {
     "name": "stderr",
     "output_type": "stream",
     "text": [
      "100%|██████████| 9/9 [01:28<00:00,  9.82s/it]\n",
      "  0%|          | 0/9 [00:00<?, ?it/s]"
     ]
    },
    {
     "name": "stdout",
     "output_type": "stream",
     "text": [
      "Current train loss: 9.235346\n",
      "Doing Train...\n",
      "Epoch 121\n"
     ]
    },
    {
     "name": "stderr",
     "output_type": "stream",
     "text": [
      "100%|██████████| 9/9 [01:27<00:00,  9.68s/it]\n",
      "  0%|          | 0/9 [00:00<?, ?it/s]"
     ]
    },
    {
     "name": "stdout",
     "output_type": "stream",
     "text": [
      "Current train loss: 9.239584\n",
      "Doing Train...\n",
      "Epoch 122\n"
     ]
    },
    {
     "name": "stderr",
     "output_type": "stream",
     "text": [
      "100%|██████████| 9/9 [01:33<00:00, 10.35s/it]\n",
      "  0%|          | 0/9 [00:00<?, ?it/s]"
     ]
    },
    {
     "name": "stdout",
     "output_type": "stream",
     "text": [
      "Current train loss: 9.240575\n",
      "Doing Train...\n",
      "Epoch 123\n"
     ]
    },
    {
     "name": "stderr",
     "output_type": "stream",
     "text": [
      "100%|██████████| 9/9 [01:38<00:00, 10.95s/it]\n",
      "  0%|          | 0/9 [00:00<?, ?it/s]"
     ]
    },
    {
     "name": "stdout",
     "output_type": "stream",
     "text": [
      "Current train loss: 9.237061\n",
      "Doing Train...\n",
      "Epoch 124\n"
     ]
    },
    {
     "name": "stderr",
     "output_type": "stream",
     "text": [
      "100%|██████████| 9/9 [01:38<00:00, 10.94s/it]\n",
      "  0%|          | 0/9 [00:00<?, ?it/s]"
     ]
    },
    {
     "name": "stdout",
     "output_type": "stream",
     "text": [
      "Current train loss: 9.214591\n",
      "Doing Train...\n",
      "Epoch 125\n"
     ]
    },
    {
     "name": "stderr",
     "output_type": "stream",
     "text": [
      "100%|██████████| 9/9 [01:37<00:00, 10.88s/it]\n",
      "  0%|          | 0/9 [00:00<?, ?it/s]"
     ]
    },
    {
     "name": "stdout",
     "output_type": "stream",
     "text": [
      "Current train loss: 9.214179\n",
      "Doing Train...\n",
      "Epoch 126\n"
     ]
    },
    {
     "name": "stderr",
     "output_type": "stream",
     "text": [
      "100%|██████████| 9/9 [01:38<00:00, 10.94s/it]\n",
      "  0%|          | 0/9 [00:00<?, ?it/s]"
     ]
    },
    {
     "name": "stdout",
     "output_type": "stream",
     "text": [
      "Current train loss: 9.234234\n",
      "Doing Train...\n",
      "Epoch 127\n"
     ]
    },
    {
     "name": "stderr",
     "output_type": "stream",
     "text": [
      "100%|██████████| 9/9 [01:41<00:00, 11.24s/it]\n",
      "  0%|          | 0/9 [00:00<?, ?it/s]"
     ]
    },
    {
     "name": "stdout",
     "output_type": "stream",
     "text": [
      "Current train loss: 9.228602\n",
      "Doing Train...\n",
      "Epoch 128\n"
     ]
    },
    {
     "name": "stderr",
     "output_type": "stream",
     "text": [
      "100%|██████████| 9/9 [01:33<00:00, 10.40s/it]\n",
      "  0%|          | 0/9 [00:00<?, ?it/s]"
     ]
    },
    {
     "name": "stdout",
     "output_type": "stream",
     "text": [
      "Current train loss: 9.249518\n",
      "Doing Train...\n",
      "Epoch 129\n"
     ]
    },
    {
     "name": "stderr",
     "output_type": "stream",
     "text": [
      "100%|██████████| 9/9 [01:27<00:00,  9.69s/it]\n",
      "  0%|          | 0/9 [00:00<?, ?it/s]"
     ]
    },
    {
     "name": "stdout",
     "output_type": "stream",
     "text": [
      "Current train loss: 9.239487\n",
      "Doing Train...\n",
      "Epoch 130\n"
     ]
    },
    {
     "name": "stderr",
     "output_type": "stream",
     "text": [
      "100%|██████████| 9/9 [01:29<00:00,  9.91s/it]\n",
      "  0%|          | 0/9 [00:00<?, ?it/s]"
     ]
    },
    {
     "name": "stdout",
     "output_type": "stream",
     "text": [
      "Current train loss: 9.230099\n",
      "Doing Train...\n",
      "Epoch 131\n"
     ]
    },
    {
     "name": "stderr",
     "output_type": "stream",
     "text": [
      "100%|██████████| 9/9 [01:27<00:00,  9.73s/it]\n",
      "  0%|          | 0/9 [00:00<?, ?it/s]"
     ]
    },
    {
     "name": "stdout",
     "output_type": "stream",
     "text": [
      "Current train loss: 9.242344\n",
      "Doing Train...\n",
      "Epoch 132\n"
     ]
    },
    {
     "name": "stderr",
     "output_type": "stream",
     "text": [
      "100%|██████████| 9/9 [01:29<00:00,  9.94s/it]\n",
      "  0%|          | 0/9 [00:00<?, ?it/s]"
     ]
    },
    {
     "name": "stdout",
     "output_type": "stream",
     "text": [
      "Current train loss: 9.237944\n",
      "Doing Train...\n",
      "Epoch 133\n"
     ]
    },
    {
     "name": "stderr",
     "output_type": "stream",
     "text": [
      "100%|██████████| 9/9 [01:28<00:00,  9.86s/it]\n",
      "  0%|          | 0/9 [00:00<?, ?it/s]"
     ]
    },
    {
     "name": "stdout",
     "output_type": "stream",
     "text": [
      "Current train loss: 9.215770\n",
      "Doing Train...\n",
      "Epoch 134\n"
     ]
    },
    {
     "name": "stderr",
     "output_type": "stream",
     "text": [
      "100%|██████████| 9/9 [01:27<00:00,  9.72s/it]\n",
      "  0%|          | 0/9 [00:00<?, ?it/s]"
     ]
    },
    {
     "name": "stdout",
     "output_type": "stream",
     "text": [
      "Current train loss: 9.244799\n",
      "Doing Train...\n",
      "Epoch 135\n"
     ]
    },
    {
     "name": "stderr",
     "output_type": "stream",
     "text": [
      "100%|██████████| 9/9 [01:33<00:00, 10.34s/it]\n",
      "  0%|          | 0/9 [00:00<?, ?it/s]"
     ]
    },
    {
     "name": "stdout",
     "output_type": "stream",
     "text": [
      "Current train loss: 9.244030\n",
      "Doing Train...\n",
      "Epoch 136\n"
     ]
    },
    {
     "name": "stderr",
     "output_type": "stream",
     "text": [
      "100%|██████████| 9/9 [01:33<00:00, 10.37s/it]\n",
      "  0%|          | 0/9 [00:00<?, ?it/s]"
     ]
    },
    {
     "name": "stdout",
     "output_type": "stream",
     "text": [
      "Current train loss: 9.257554\n",
      "Doing Train...\n",
      "Epoch 137\n"
     ]
    },
    {
     "name": "stderr",
     "output_type": "stream",
     "text": [
      "100%|██████████| 9/9 [01:32<00:00, 10.31s/it]\n",
      "  0%|          | 0/9 [00:00<?, ?it/s]"
     ]
    },
    {
     "name": "stdout",
     "output_type": "stream",
     "text": [
      "Current train loss: 9.247778\n",
      "Doing Train...\n",
      "Epoch 138\n"
     ]
    },
    {
     "name": "stderr",
     "output_type": "stream",
     "text": [
      "100%|██████████| 9/9 [01:34<00:00, 10.46s/it]\n",
      "  0%|          | 0/9 [00:00<?, ?it/s]"
     ]
    },
    {
     "name": "stdout",
     "output_type": "stream",
     "text": [
      "Current train loss: 9.233508\n",
      "Doing Train...\n",
      "Epoch 139\n"
     ]
    },
    {
     "name": "stderr",
     "output_type": "stream",
     "text": [
      "100%|██████████| 9/9 [01:34<00:00, 10.49s/it]\n",
      "  0%|          | 0/9 [00:00<?, ?it/s]"
     ]
    },
    {
     "name": "stdout",
     "output_type": "stream",
     "text": [
      "Current train loss: 9.221618\n",
      "Doing Train...\n",
      "Epoch 140\n"
     ]
    },
    {
     "name": "stderr",
     "output_type": "stream",
     "text": [
      "100%|██████████| 9/9 [01:32<00:00, 10.33s/it]\n",
      "  0%|          | 0/9 [00:00<?, ?it/s]"
     ]
    },
    {
     "name": "stdout",
     "output_type": "stream",
     "text": [
      "Current train loss: 9.227283\n",
      "Doing Train...\n",
      "Epoch 141\n"
     ]
    },
    {
     "name": "stderr",
     "output_type": "stream",
     "text": [
      "100%|██████████| 9/9 [01:35<00:00, 10.60s/it]\n",
      "  0%|          | 0/9 [00:00<?, ?it/s]"
     ]
    },
    {
     "name": "stdout",
     "output_type": "stream",
     "text": [
      "Current train loss: 9.244656\n",
      "Doing Train...\n",
      "Epoch 142\n"
     ]
    },
    {
     "name": "stderr",
     "output_type": "stream",
     "text": [
      "100%|██████████| 9/9 [01:38<00:00, 10.89s/it]\n",
      "  0%|          | 0/9 [00:00<?, ?it/s]"
     ]
    },
    {
     "name": "stdout",
     "output_type": "stream",
     "text": [
      "Current train loss: 9.240057\n",
      "Doing Train...\n",
      "Epoch 143\n"
     ]
    },
    {
     "name": "stderr",
     "output_type": "stream",
     "text": [
      "100%|██████████| 9/9 [01:39<00:00, 11.08s/it]\n",
      "  0%|          | 0/9 [00:00<?, ?it/s]"
     ]
    },
    {
     "name": "stdout",
     "output_type": "stream",
     "text": [
      "Current train loss: 9.233689\n",
      "Doing Train...\n",
      "Epoch 144\n"
     ]
    },
    {
     "name": "stderr",
     "output_type": "stream",
     "text": [
      "100%|██████████| 9/9 [01:37<00:00, 10.85s/it]\n",
      "  0%|          | 0/9 [00:00<?, ?it/s]"
     ]
    },
    {
     "name": "stdout",
     "output_type": "stream",
     "text": [
      "Current train loss: 9.223051\n",
      "Doing Train...\n",
      "Epoch 145\n"
     ]
    },
    {
     "name": "stderr",
     "output_type": "stream",
     "text": [
      "100%|██████████| 9/9 [01:37<00:00, 10.84s/it]\n",
      "  0%|          | 0/9 [00:00<?, ?it/s]"
     ]
    },
    {
     "name": "stdout",
     "output_type": "stream",
     "text": [
      "Current train loss: 9.228175\n",
      "Doing Train...\n",
      "Epoch 146\n"
     ]
    },
    {
     "name": "stderr",
     "output_type": "stream",
     "text": [
      "100%|██████████| 9/9 [01:38<00:00, 11.00s/it]\n",
      "  0%|          | 0/9 [00:00<?, ?it/s]"
     ]
    },
    {
     "name": "stdout",
     "output_type": "stream",
     "text": [
      "Current train loss: 9.220526\n",
      "Doing Train...\n",
      "Epoch 147\n"
     ]
    },
    {
     "name": "stderr",
     "output_type": "stream",
     "text": [
      "100%|██████████| 9/9 [01:36<00:00, 10.72s/it]\n",
      "  0%|          | 0/9 [00:00<?, ?it/s]"
     ]
    },
    {
     "name": "stdout",
     "output_type": "stream",
     "text": [
      "Current train loss: 9.231080\n",
      "Doing Train...\n",
      "Epoch 148\n"
     ]
    },
    {
     "name": "stderr",
     "output_type": "stream",
     "text": [
      "100%|██████████| 9/9 [01:31<00:00, 10.11s/it]\n",
      "  0%|          | 0/9 [00:00<?, ?it/s]"
     ]
    },
    {
     "name": "stdout",
     "output_type": "stream",
     "text": [
      "Current train loss: 9.228734\n",
      "Doing Train...\n",
      "Epoch 149\n"
     ]
    },
    {
     "name": "stderr",
     "output_type": "stream",
     "text": [
      "100%|██████████| 9/9 [01:29<00:00,  9.96s/it]\n",
      "  0%|          | 0/3 [00:00<?, ?it/s]"
     ]
    },
    {
     "name": "stdout",
     "output_type": "stream",
     "text": [
      "Current train loss: 9.236968\n",
      "Doing Test...\n"
     ]
    },
    {
     "name": "stderr",
     "output_type": "stream",
     "text": [
      "100%|██████████| 3/3 [00:17<00:00,  5.80s/it]\n",
      "  0%|          | 0/9 [00:00<?, ?it/s]"
     ]
    },
    {
     "name": "stdout",
     "output_type": "stream",
     "text": [
      "Current test loss: 9.361451\n",
      "Doing Train...\n",
      "Epoch 150\n"
     ]
    },
    {
     "name": "stderr",
     "output_type": "stream",
     "text": [
      "100%|██████████| 9/9 [01:29<00:00,  9.93s/it]\n",
      "  0%|          | 0/9 [00:00<?, ?it/s]"
     ]
    },
    {
     "name": "stdout",
     "output_type": "stream",
     "text": [
      "Current train loss: 9.234027\n",
      "Doing Train...\n",
      "Epoch 151\n"
     ]
    },
    {
     "name": "stderr",
     "output_type": "stream",
     "text": [
      "100%|██████████| 9/9 [01:29<00:00,  9.94s/it]\n",
      "  0%|          | 0/9 [00:00<?, ?it/s]"
     ]
    },
    {
     "name": "stdout",
     "output_type": "stream",
     "text": [
      "Current train loss: 9.216314\n",
      "Doing Train...\n",
      "Epoch 152\n"
     ]
    },
    {
     "name": "stderr",
     "output_type": "stream",
     "text": [
      "100%|██████████| 9/9 [01:29<00:00,  9.92s/it]\n",
      "  0%|          | 0/9 [00:00<?, ?it/s]"
     ]
    },
    {
     "name": "stdout",
     "output_type": "stream",
     "text": [
      "Current train loss: 9.227369\n",
      "Doing Train...\n",
      "Epoch 153\n"
     ]
    },
    {
     "name": "stderr",
     "output_type": "stream",
     "text": [
      "100%|██████████| 9/9 [01:28<00:00,  9.81s/it]\n",
      "  0%|          | 0/9 [00:00<?, ?it/s]"
     ]
    },
    {
     "name": "stdout",
     "output_type": "stream",
     "text": [
      "Current train loss: 9.228049\n",
      "Doing Train...\n",
      "Epoch 154\n"
     ]
    },
    {
     "name": "stderr",
     "output_type": "stream",
     "text": [
      "100%|██████████| 9/9 [01:27<00:00,  9.76s/it]\n",
      "  0%|          | 0/9 [00:00<?, ?it/s]"
     ]
    },
    {
     "name": "stdout",
     "output_type": "stream",
     "text": [
      "Current train loss: 9.233047\n",
      "Doing Train...\n",
      "Epoch 155\n"
     ]
    },
    {
     "name": "stderr",
     "output_type": "stream",
     "text": [
      "100%|██████████| 9/9 [01:24<00:00,  9.40s/it]\n",
      "  0%|          | 0/9 [00:00<?, ?it/s]"
     ]
    },
    {
     "name": "stdout",
     "output_type": "stream",
     "text": [
      "Current train loss: 9.229911\n",
      "Doing Train...\n",
      "Epoch 156\n"
     ]
    },
    {
     "name": "stderr",
     "output_type": "stream",
     "text": [
      "100%|██████████| 9/9 [01:25<00:00,  9.53s/it]\n",
      "  0%|          | 0/9 [00:00<?, ?it/s]"
     ]
    },
    {
     "name": "stdout",
     "output_type": "stream",
     "text": [
      "Current train loss: 9.230967\n",
      "Doing Train...\n",
      "Epoch 157\n"
     ]
    },
    {
     "name": "stderr",
     "output_type": "stream",
     "text": [
      "100%|██████████| 9/9 [01:25<00:00,  9.54s/it]\n",
      "  0%|          | 0/9 [00:00<?, ?it/s]"
     ]
    },
    {
     "name": "stdout",
     "output_type": "stream",
     "text": [
      "Current train loss: 9.231494\n",
      "Doing Train...\n",
      "Epoch 158\n"
     ]
    },
    {
     "name": "stderr",
     "output_type": "stream",
     "text": [
      "100%|██████████| 9/9 [01:27<00:00,  9.68s/it]\n",
      "  0%|          | 0/9 [00:00<?, ?it/s]"
     ]
    },
    {
     "name": "stdout",
     "output_type": "stream",
     "text": [
      "Current train loss: 9.216344\n",
      "Doing Train...\n",
      "Epoch 159\n"
     ]
    },
    {
     "name": "stderr",
     "output_type": "stream",
     "text": [
      "100%|██████████| 9/9 [01:28<00:00,  9.84s/it]\n",
      "  0%|          | 0/9 [00:00<?, ?it/s]"
     ]
    },
    {
     "name": "stdout",
     "output_type": "stream",
     "text": [
      "Current train loss: 9.218722\n",
      "Doing Train...\n",
      "Epoch 160\n"
     ]
    },
    {
     "name": "stderr",
     "output_type": "stream",
     "text": [
      "100%|██████████| 9/9 [01:26<00:00,  9.62s/it]\n",
      "  0%|          | 0/9 [00:00<?, ?it/s]"
     ]
    },
    {
     "name": "stdout",
     "output_type": "stream",
     "text": [
      "Current train loss: 9.223455\n",
      "Doing Train...\n",
      "Epoch 161\n"
     ]
    },
    {
     "name": "stderr",
     "output_type": "stream",
     "text": [
      "100%|██████████| 9/9 [01:33<00:00, 10.36s/it]\n",
      "  0%|          | 0/9 [00:00<?, ?it/s]"
     ]
    },
    {
     "name": "stdout",
     "output_type": "stream",
     "text": [
      "Current train loss: 9.234756\n",
      "Doing Train...\n",
      "Epoch 162\n"
     ]
    },
    {
     "name": "stderr",
     "output_type": "stream",
     "text": [
      "100%|██████████| 9/9 [01:37<00:00, 10.85s/it]\n",
      "  0%|          | 0/9 [00:00<?, ?it/s]"
     ]
    },
    {
     "name": "stdout",
     "output_type": "stream",
     "text": [
      "Current train loss: 9.217974\n",
      "Doing Train...\n",
      "Epoch 163\n"
     ]
    },
    {
     "name": "stderr",
     "output_type": "stream",
     "text": [
      "100%|██████████| 9/9 [01:37<00:00, 10.84s/it]\n",
      "  0%|          | 0/9 [00:00<?, ?it/s]"
     ]
    },
    {
     "name": "stdout",
     "output_type": "stream",
     "text": [
      "Current train loss: 9.228295\n",
      "Doing Train...\n",
      "Epoch 164\n"
     ]
    },
    {
     "name": "stderr",
     "output_type": "stream",
     "text": [
      "100%|██████████| 9/9 [01:36<00:00, 10.76s/it]\n",
      "  0%|          | 0/9 [00:00<?, ?it/s]"
     ]
    },
    {
     "name": "stdout",
     "output_type": "stream",
     "text": [
      "Current train loss: 9.228019\n",
      "Doing Train...\n",
      "Epoch 165\n"
     ]
    },
    {
     "name": "stderr",
     "output_type": "stream",
     "text": [
      "100%|██████████| 9/9 [01:38<00:00, 10.94s/it]\n",
      "  0%|          | 0/9 [00:00<?, ?it/s]"
     ]
    },
    {
     "name": "stdout",
     "output_type": "stream",
     "text": [
      "Current train loss: 9.234488\n",
      "Doing Train...\n",
      "Epoch 166\n"
     ]
    },
    {
     "name": "stderr",
     "output_type": "stream",
     "text": [
      "100%|██████████| 9/9 [01:38<00:00, 10.91s/it]\n",
      "  0%|          | 0/9 [00:00<?, ?it/s]"
     ]
    },
    {
     "name": "stdout",
     "output_type": "stream",
     "text": [
      "Current train loss: 9.242066\n",
      "Doing Train...\n",
      "Epoch 167\n"
     ]
    },
    {
     "name": "stderr",
     "output_type": "stream",
     "text": [
      "100%|██████████| 9/9 [01:37<00:00, 10.88s/it]\n",
      "  0%|          | 0/9 [00:00<?, ?it/s]"
     ]
    },
    {
     "name": "stdout",
     "output_type": "stream",
     "text": [
      "Current train loss: 9.217043\n",
      "Doing Train...\n",
      "Epoch 168\n"
     ]
    },
    {
     "name": "stderr",
     "output_type": "stream",
     "text": [
      "100%|██████████| 9/9 [01:38<00:00, 11.00s/it]\n",
      "  0%|          | 0/9 [00:00<?, ?it/s]"
     ]
    },
    {
     "name": "stdout",
     "output_type": "stream",
     "text": [
      "Current train loss: 9.221991\n",
      "Doing Train...\n",
      "Epoch 169\n"
     ]
    },
    {
     "name": "stderr",
     "output_type": "stream",
     "text": [
      "100%|██████████| 9/9 [01:39<00:00, 11.04s/it]\n",
      "  0%|          | 0/9 [00:00<?, ?it/s]"
     ]
    },
    {
     "name": "stdout",
     "output_type": "stream",
     "text": [
      "Current train loss: 9.238378\n",
      "Doing Train...\n",
      "Epoch 170\n"
     ]
    },
    {
     "name": "stderr",
     "output_type": "stream",
     "text": [
      "100%|██████████| 9/9 [01:38<00:00, 10.95s/it]\n",
      "  0%|          | 0/9 [00:00<?, ?it/s]"
     ]
    },
    {
     "name": "stdout",
     "output_type": "stream",
     "text": [
      "Current train loss: 9.223428\n",
      "Doing Train...\n",
      "Epoch 171\n"
     ]
    },
    {
     "name": "stderr",
     "output_type": "stream",
     "text": [
      "100%|██████████| 9/9 [01:38<00:00, 10.91s/it]\n",
      "  0%|          | 0/9 [00:00<?, ?it/s]"
     ]
    },
    {
     "name": "stdout",
     "output_type": "stream",
     "text": [
      "Current train loss: 9.212137\n",
      "Doing Train...\n",
      "Epoch 172\n"
     ]
    },
    {
     "name": "stderr",
     "output_type": "stream",
     "text": [
      "100%|██████████| 9/9 [01:39<00:00, 11.08s/it]\n",
      "  0%|          | 0/9 [00:00<?, ?it/s]"
     ]
    },
    {
     "name": "stdout",
     "output_type": "stream",
     "text": [
      "Current train loss: 9.225442\n",
      "Doing Train...\n",
      "Epoch 173\n"
     ]
    },
    {
     "name": "stderr",
     "output_type": "stream",
     "text": [
      "100%|██████████| 9/9 [01:32<00:00, 10.33s/it]\n",
      "  0%|          | 0/9 [00:00<?, ?it/s]"
     ]
    },
    {
     "name": "stdout",
     "output_type": "stream",
     "text": [
      "Current train loss: 9.210907\n",
      "Doing Train...\n",
      "Epoch 174\n"
     ]
    },
    {
     "name": "stderr",
     "output_type": "stream",
     "text": [
      "100%|██████████| 9/9 [01:26<00:00,  9.66s/it]\n",
      "  0%|          | 0/9 [00:00<?, ?it/s]"
     ]
    },
    {
     "name": "stdout",
     "output_type": "stream",
     "text": [
      "Current train loss: 9.217129\n",
      "Doing Train...\n",
      "Epoch 175\n"
     ]
    },
    {
     "name": "stderr",
     "output_type": "stream",
     "text": [
      "100%|██████████| 9/9 [01:26<00:00,  9.64s/it]\n",
      "  0%|          | 0/9 [00:00<?, ?it/s]"
     ]
    },
    {
     "name": "stdout",
     "output_type": "stream",
     "text": [
      "Current train loss: 9.229968\n",
      "Doing Train...\n",
      "Epoch 176\n"
     ]
    },
    {
     "name": "stderr",
     "output_type": "stream",
     "text": [
      "100%|██████████| 9/9 [01:27<00:00,  9.74s/it]\n",
      "  0%|          | 0/9 [00:00<?, ?it/s]"
     ]
    },
    {
     "name": "stdout",
     "output_type": "stream",
     "text": [
      "Current train loss: 9.241841\n",
      "Doing Train...\n",
      "Epoch 177\n"
     ]
    },
    {
     "name": "stderr",
     "output_type": "stream",
     "text": [
      "100%|██████████| 9/9 [01:26<00:00,  9.64s/it]\n",
      "  0%|          | 0/9 [00:00<?, ?it/s]"
     ]
    },
    {
     "name": "stdout",
     "output_type": "stream",
     "text": [
      "Current train loss: 9.219015\n",
      "Doing Train...\n",
      "Epoch 178\n"
     ]
    },
    {
     "name": "stderr",
     "output_type": "stream",
     "text": [
      "100%|██████████| 9/9 [01:26<00:00,  9.58s/it]\n",
      "  0%|          | 0/9 [00:00<?, ?it/s]"
     ]
    },
    {
     "name": "stdout",
     "output_type": "stream",
     "text": [
      "Current train loss: 9.225312\n",
      "Doing Train...\n",
      "Epoch 179\n"
     ]
    },
    {
     "name": "stderr",
     "output_type": "stream",
     "text": [
      "100%|██████████| 9/9 [01:27<00:00,  9.67s/it]\n",
      "  0%|          | 0/9 [00:00<?, ?it/s]"
     ]
    },
    {
     "name": "stdout",
     "output_type": "stream",
     "text": [
      "Current train loss: 9.209748\n",
      "Doing Train...\n",
      "Epoch 180\n"
     ]
    },
    {
     "name": "stderr",
     "output_type": "stream",
     "text": [
      "100%|██████████| 9/9 [01:27<00:00,  9.71s/it]\n",
      "  0%|          | 0/9 [00:00<?, ?it/s]"
     ]
    },
    {
     "name": "stdout",
     "output_type": "stream",
     "text": [
      "Current train loss: 9.237016\n",
      "Doing Train...\n",
      "Epoch 181\n"
     ]
    },
    {
     "name": "stderr",
     "output_type": "stream",
     "text": [
      "100%|██████████| 9/9 [01:27<00:00,  9.73s/it]\n",
      "  0%|          | 0/9 [00:00<?, ?it/s]"
     ]
    },
    {
     "name": "stdout",
     "output_type": "stream",
     "text": [
      "Current train loss: 9.212227\n",
      "Doing Train...\n",
      "Epoch 182\n"
     ]
    },
    {
     "name": "stderr",
     "output_type": "stream",
     "text": [
      "100%|██████████| 9/9 [01:26<00:00,  9.63s/it]\n",
      "  0%|          | 0/9 [00:00<?, ?it/s]"
     ]
    },
    {
     "name": "stdout",
     "output_type": "stream",
     "text": [
      "Current train loss: 9.226088\n",
      "Doing Train...\n",
      "Epoch 183\n"
     ]
    },
    {
     "name": "stderr",
     "output_type": "stream",
     "text": [
      "100%|██████████| 9/9 [01:27<00:00,  9.74s/it]\n",
      "  0%|          | 0/9 [00:00<?, ?it/s]"
     ]
    },
    {
     "name": "stdout",
     "output_type": "stream",
     "text": [
      "Current train loss: 9.217155\n",
      "Doing Train...\n",
      "Epoch 184\n"
     ]
    },
    {
     "name": "stderr",
     "output_type": "stream",
     "text": [
      "100%|██████████| 9/9 [01:28<00:00,  9.81s/it]\n",
      "  0%|          | 0/9 [00:00<?, ?it/s]"
     ]
    },
    {
     "name": "stdout",
     "output_type": "stream",
     "text": [
      "Current train loss: 9.219361\n",
      "Doing Train...\n",
      "Epoch 185\n"
     ]
    },
    {
     "name": "stderr",
     "output_type": "stream",
     "text": [
      "100%|██████████| 9/9 [01:26<00:00,  9.63s/it]\n",
      "  0%|          | 0/9 [00:00<?, ?it/s]"
     ]
    },
    {
     "name": "stdout",
     "output_type": "stream",
     "text": [
      "Current train loss: 9.219793\n",
      "Doing Train...\n",
      "Epoch 186\n"
     ]
    },
    {
     "name": "stderr",
     "output_type": "stream",
     "text": [
      "100%|██████████| 9/9 [01:26<00:00,  9.65s/it]\n",
      "  0%|          | 0/9 [00:00<?, ?it/s]"
     ]
    },
    {
     "name": "stdout",
     "output_type": "stream",
     "text": [
      "Current train loss: 9.222688\n",
      "Doing Train...\n",
      "Epoch 187\n"
     ]
    },
    {
     "name": "stderr",
     "output_type": "stream",
     "text": [
      "100%|██████████| 9/9 [01:32<00:00, 10.25s/it]\n",
      "  0%|          | 0/9 [00:00<?, ?it/s]"
     ]
    },
    {
     "name": "stdout",
     "output_type": "stream",
     "text": [
      "Current train loss: 9.227040\n",
      "Doing Train...\n",
      "Epoch 188\n"
     ]
    },
    {
     "name": "stderr",
     "output_type": "stream",
     "text": [
      "100%|██████████| 9/9 [01:35<00:00, 10.66s/it]\n",
      "  0%|          | 0/9 [00:00<?, ?it/s]"
     ]
    },
    {
     "name": "stdout",
     "output_type": "stream",
     "text": [
      "Current train loss: 9.221162\n",
      "Doing Train...\n",
      "Epoch 189\n"
     ]
    },
    {
     "name": "stderr",
     "output_type": "stream",
     "text": [
      "100%|██████████| 9/9 [01:35<00:00, 10.58s/it]\n",
      "  0%|          | 0/9 [00:00<?, ?it/s]"
     ]
    },
    {
     "name": "stdout",
     "output_type": "stream",
     "text": [
      "Current train loss: 9.217228\n",
      "Doing Train...\n",
      "Epoch 190\n"
     ]
    },
    {
     "name": "stderr",
     "output_type": "stream",
     "text": [
      "100%|██████████| 9/9 [01:34<00:00, 10.54s/it]\n",
      "  0%|          | 0/9 [00:00<?, ?it/s]"
     ]
    },
    {
     "name": "stdout",
     "output_type": "stream",
     "text": [
      "Current train loss: 9.212695\n",
      "Doing Train...\n",
      "Epoch 191\n"
     ]
    },
    {
     "name": "stderr",
     "output_type": "stream",
     "text": [
      "100%|██████████| 9/9 [01:34<00:00, 10.50s/it]\n",
      "  0%|          | 0/9 [00:00<?, ?it/s]"
     ]
    },
    {
     "name": "stdout",
     "output_type": "stream",
     "text": [
      "Current train loss: 9.206994\n",
      "Doing Train...\n",
      "Epoch 192\n"
     ]
    },
    {
     "name": "stderr",
     "output_type": "stream",
     "text": [
      "100%|██████████| 9/9 [01:34<00:00, 10.50s/it]\n",
      "  0%|          | 0/9 [00:00<?, ?it/s]"
     ]
    },
    {
     "name": "stdout",
     "output_type": "stream",
     "text": [
      "Current train loss: 9.243170\n",
      "Doing Train...\n",
      "Epoch 193\n"
     ]
    },
    {
     "name": "stderr",
     "output_type": "stream",
     "text": [
      "100%|██████████| 9/9 [01:30<00:00, 10.05s/it]\n",
      "  0%|          | 0/9 [00:00<?, ?it/s]"
     ]
    },
    {
     "name": "stdout",
     "output_type": "stream",
     "text": [
      "Current train loss: 9.211519\n",
      "Doing Train...\n",
      "Epoch 194\n"
     ]
    },
    {
     "name": "stderr",
     "output_type": "stream",
     "text": [
      "100%|██████████| 9/9 [01:28<00:00,  9.88s/it]\n",
      "  0%|          | 0/9 [00:00<?, ?it/s]"
     ]
    },
    {
     "name": "stdout",
     "output_type": "stream",
     "text": [
      "Current train loss: 9.223204\n",
      "Doing Train...\n",
      "Epoch 195\n"
     ]
    },
    {
     "name": "stderr",
     "output_type": "stream",
     "text": [
      "100%|██████████| 9/9 [01:28<00:00,  9.78s/it]\n",
      "  0%|          | 0/9 [00:00<?, ?it/s]"
     ]
    },
    {
     "name": "stdout",
     "output_type": "stream",
     "text": [
      "Current train loss: 9.213376\n",
      "Doing Train...\n",
      "Epoch 196\n"
     ]
    },
    {
     "name": "stderr",
     "output_type": "stream",
     "text": [
      "100%|██████████| 9/9 [01:28<00:00,  9.82s/it]\n",
      "  0%|          | 0/9 [00:00<?, ?it/s]"
     ]
    },
    {
     "name": "stdout",
     "output_type": "stream",
     "text": [
      "Current train loss: 9.223528\n",
      "Doing Train...\n",
      "Epoch 197\n"
     ]
    },
    {
     "name": "stderr",
     "output_type": "stream",
     "text": [
      "100%|██████████| 9/9 [01:30<00:00, 10.04s/it]\n",
      "  0%|          | 0/9 [00:00<?, ?it/s]"
     ]
    },
    {
     "name": "stdout",
     "output_type": "stream",
     "text": [
      "Current train loss: 9.243692\n",
      "Doing Train...\n",
      "Epoch 198\n"
     ]
    },
    {
     "name": "stderr",
     "output_type": "stream",
     "text": [
      "100%|██████████| 9/9 [01:27<00:00,  9.71s/it]\n",
      "  0%|          | 0/9 [00:00<?, ?it/s]"
     ]
    },
    {
     "name": "stdout",
     "output_type": "stream",
     "text": [
      "Current train loss: 9.239103\n",
      "Doing Train...\n",
      "Epoch 199\n"
     ]
    },
    {
     "name": "stderr",
     "output_type": "stream",
     "text": [
      "100%|██████████| 9/9 [01:28<00:00,  9.82s/it]\n",
      "  0%|          | 0/3 [00:00<?, ?it/s]"
     ]
    },
    {
     "name": "stdout",
     "output_type": "stream",
     "text": [
      "Current train loss: 9.206351\n",
      "Doing Test...\n"
     ]
    },
    {
     "name": "stderr",
     "output_type": "stream",
     "text": [
      "100%|██████████| 3/3 [00:17<00:00,  5.99s/it]\n",
      "  0%|          | 0/9 [00:00<?, ?it/s]"
     ]
    },
    {
     "name": "stdout",
     "output_type": "stream",
     "text": [
      "Current test loss: 9.315254\n",
      "Doing Train...\n",
      "Epoch 200\n"
     ]
    },
    {
     "name": "stderr",
     "output_type": "stream",
     "text": [
      "100%|██████████| 9/9 [01:29<00:00,  9.96s/it]\n",
      "  0%|          | 0/9 [00:00<?, ?it/s]"
     ]
    },
    {
     "name": "stdout",
     "output_type": "stream",
     "text": [
      "Current train loss: 9.225145\n",
      "Doing Train...\n",
      "Epoch 201\n"
     ]
    },
    {
     "name": "stderr",
     "output_type": "stream",
     "text": [
      "100%|██████████| 9/9 [01:29<00:00,  9.93s/it]\n",
      "  0%|          | 0/9 [00:00<?, ?it/s]"
     ]
    },
    {
     "name": "stdout",
     "output_type": "stream",
     "text": [
      "Current train loss: 9.202946\n",
      "Doing Train...\n",
      "Epoch 202\n"
     ]
    },
    {
     "name": "stderr",
     "output_type": "stream",
     "text": [
      "100%|██████████| 9/9 [01:27<00:00,  9.72s/it]\n",
      "  0%|          | 0/9 [00:00<?, ?it/s]"
     ]
    },
    {
     "name": "stdout",
     "output_type": "stream",
     "text": [
      "Current train loss: 9.205756\n",
      "Doing Train...\n",
      "Epoch 203\n"
     ]
    },
    {
     "name": "stderr",
     "output_type": "stream",
     "text": [
      "100%|██████████| 9/9 [01:30<00:00, 10.05s/it]\n",
      "  0%|          | 0/9 [00:00<?, ?it/s]"
     ]
    },
    {
     "name": "stdout",
     "output_type": "stream",
     "text": [
      "Current train loss: 9.214971\n",
      "Doing Train...\n",
      "Epoch 204\n"
     ]
    },
    {
     "name": "stderr",
     "output_type": "stream",
     "text": [
      "100%|██████████| 9/9 [01:29<00:00,  9.92s/it]\n",
      "  0%|          | 0/9 [00:00<?, ?it/s]"
     ]
    },
    {
     "name": "stdout",
     "output_type": "stream",
     "text": [
      "Current train loss: 9.212011\n",
      "Doing Train...\n",
      "Epoch 205\n"
     ]
    },
    {
     "name": "stderr",
     "output_type": "stream",
     "text": [
      "100%|██████████| 9/9 [01:28<00:00,  9.84s/it]\n",
      "  0%|          | 0/9 [00:00<?, ?it/s]"
     ]
    },
    {
     "name": "stdout",
     "output_type": "stream",
     "text": [
      "Current train loss: 9.217590\n",
      "Doing Train...\n",
      "Epoch 206\n"
     ]
    },
    {
     "name": "stderr",
     "output_type": "stream",
     "text": [
      "100%|██████████| 9/9 [01:30<00:00, 10.02s/it]\n",
      "  0%|          | 0/9 [00:00<?, ?it/s]"
     ]
    },
    {
     "name": "stdout",
     "output_type": "stream",
     "text": [
      "Current train loss: 9.239839\n",
      "Doing Train...\n",
      "Epoch 207\n"
     ]
    },
    {
     "name": "stderr",
     "output_type": "stream",
     "text": [
      "100%|██████████| 9/9 [01:25<00:00,  9.54s/it]\n",
      "  0%|          | 0/9 [00:00<?, ?it/s]"
     ]
    },
    {
     "name": "stdout",
     "output_type": "stream",
     "text": [
      "Current train loss: 9.226287\n",
      "Doing Train...\n",
      "Epoch 208\n"
     ]
    },
    {
     "name": "stderr",
     "output_type": "stream",
     "text": [
      "100%|██████████| 9/9 [01:25<00:00,  9.45s/it]\n",
      "  0%|          | 0/9 [00:00<?, ?it/s]"
     ]
    },
    {
     "name": "stdout",
     "output_type": "stream",
     "text": [
      "Current train loss: 9.233733\n",
      "Doing Train...\n",
      "Epoch 209\n"
     ]
    },
    {
     "name": "stderr",
     "output_type": "stream",
     "text": [
      "100%|██████████| 9/9 [01:27<00:00,  9.67s/it]\n",
      "  0%|          | 0/9 [00:00<?, ?it/s]"
     ]
    },
    {
     "name": "stdout",
     "output_type": "stream",
     "text": [
      "Current train loss: 9.215087\n",
      "Doing Train...\n",
      "Epoch 210\n"
     ]
    },
    {
     "name": "stderr",
     "output_type": "stream",
     "text": [
      "100%|██████████| 9/9 [01:27<00:00,  9.76s/it]\n",
      "  0%|          | 0/9 [00:00<?, ?it/s]"
     ]
    },
    {
     "name": "stdout",
     "output_type": "stream",
     "text": [
      "Current train loss: 9.197945\n",
      "Doing Train...\n",
      "Epoch 211\n"
     ]
    },
    {
     "name": "stderr",
     "output_type": "stream",
     "text": [
      "100%|██████████| 9/9 [01:25<00:00,  9.49s/it]\n",
      "  0%|          | 0/9 [00:00<?, ?it/s]"
     ]
    },
    {
     "name": "stdout",
     "output_type": "stream",
     "text": [
      "Current train loss: 9.209508\n",
      "Doing Train...\n",
      "Epoch 212\n"
     ]
    },
    {
     "name": "stderr",
     "output_type": "stream",
     "text": [
      "100%|██████████| 9/9 [01:26<00:00,  9.61s/it]\n",
      "  0%|          | 0/9 [00:00<?, ?it/s]"
     ]
    },
    {
     "name": "stdout",
     "output_type": "stream",
     "text": [
      "Current train loss: 9.230230\n",
      "Doing Train...\n",
      "Epoch 213\n"
     ]
    },
    {
     "name": "stderr",
     "output_type": "stream",
     "text": [
      "100%|██████████| 9/9 [01:27<00:00,  9.71s/it]\n",
      "  0%|          | 0/9 [00:00<?, ?it/s]"
     ]
    },
    {
     "name": "stdout",
     "output_type": "stream",
     "text": [
      "Current train loss: 9.247431\n",
      "Doing Train...\n",
      "Epoch 214\n"
     ]
    },
    {
     "name": "stderr",
     "output_type": "stream",
     "text": [
      "100%|██████████| 9/9 [01:26<00:00,  9.61s/it]\n",
      "  0%|          | 0/9 [00:00<?, ?it/s]"
     ]
    },
    {
     "name": "stdout",
     "output_type": "stream",
     "text": [
      "Current train loss: 9.221424\n",
      "Doing Train...\n",
      "Epoch 215\n"
     ]
    },
    {
     "name": "stderr",
     "output_type": "stream",
     "text": [
      "100%|██████████| 9/9 [01:26<00:00,  9.58s/it]\n",
      "  0%|          | 0/9 [00:00<?, ?it/s]"
     ]
    },
    {
     "name": "stdout",
     "output_type": "stream",
     "text": [
      "Current train loss: 9.216443\n",
      "Doing Train...\n",
      "Epoch 216\n"
     ]
    },
    {
     "name": "stderr",
     "output_type": "stream",
     "text": [
      "100%|██████████| 9/9 [01:27<00:00,  9.67s/it]\n",
      "  0%|          | 0/9 [00:00<?, ?it/s]"
     ]
    },
    {
     "name": "stdout",
     "output_type": "stream",
     "text": [
      "Current train loss: 9.214360\n",
      "Doing Train...\n",
      "Epoch 217\n"
     ]
    },
    {
     "name": "stderr",
     "output_type": "stream",
     "text": [
      "100%|██████████| 9/9 [01:26<00:00,  9.64s/it]\n",
      "  0%|          | 0/9 [00:00<?, ?it/s]"
     ]
    },
    {
     "name": "stdout",
     "output_type": "stream",
     "text": [
      "Current train loss: 9.213882\n",
      "Doing Train...\n",
      "Epoch 218\n"
     ]
    },
    {
     "name": "stderr",
     "output_type": "stream",
     "text": [
      "100%|██████████| 9/9 [01:26<00:00,  9.58s/it]\n",
      "  0%|          | 0/9 [00:00<?, ?it/s]"
     ]
    },
    {
     "name": "stdout",
     "output_type": "stream",
     "text": [
      "Current train loss: 9.201112\n",
      "Doing Train...\n",
      "Epoch 219\n"
     ]
    },
    {
     "name": "stderr",
     "output_type": "stream",
     "text": [
      "100%|██████████| 9/9 [01:25<00:00,  9.54s/it]\n",
      "  0%|          | 0/9 [00:00<?, ?it/s]"
     ]
    },
    {
     "name": "stdout",
     "output_type": "stream",
     "text": [
      "Current train loss: 9.210526\n",
      "Doing Train...\n",
      "Epoch 220\n"
     ]
    },
    {
     "name": "stderr",
     "output_type": "stream",
     "text": [
      "100%|██████████| 9/9 [01:28<00:00,  9.80s/it]\n",
      "  0%|          | 0/9 [00:00<?, ?it/s]"
     ]
    },
    {
     "name": "stdout",
     "output_type": "stream",
     "text": [
      "Current train loss: 9.243928\n",
      "Doing Train...\n",
      "Epoch 221\n"
     ]
    },
    {
     "name": "stderr",
     "output_type": "stream",
     "text": [
      "100%|██████████| 9/9 [01:27<00:00,  9.68s/it]\n",
      "  0%|          | 0/9 [00:00<?, ?it/s]"
     ]
    },
    {
     "name": "stdout",
     "output_type": "stream",
     "text": [
      "Current train loss: 9.227057\n",
      "Doing Train...\n",
      "Epoch 222\n"
     ]
    },
    {
     "name": "stderr",
     "output_type": "stream",
     "text": [
      "100%|██████████| 9/9 [01:27<00:00,  9.75s/it]\n",
      "  0%|          | 0/9 [00:00<?, ?it/s]"
     ]
    },
    {
     "name": "stdout",
     "output_type": "stream",
     "text": [
      "Current train loss: 9.209132\n",
      "Doing Train...\n",
      "Epoch 223\n"
     ]
    },
    {
     "name": "stderr",
     "output_type": "stream",
     "text": [
      "100%|██████████| 9/9 [01:28<00:00,  9.78s/it]\n",
      "  0%|          | 0/9 [00:00<?, ?it/s]"
     ]
    },
    {
     "name": "stdout",
     "output_type": "stream",
     "text": [
      "Current train loss: 9.212433\n",
      "Doing Train...\n",
      "Epoch 224\n"
     ]
    },
    {
     "name": "stderr",
     "output_type": "stream",
     "text": [
      "100%|██████████| 9/9 [01:27<00:00,  9.69s/it]\n",
      "  0%|          | 0/9 [00:00<?, ?it/s]"
     ]
    },
    {
     "name": "stdout",
     "output_type": "stream",
     "text": [
      "Current train loss: 9.209215\n",
      "Doing Train...\n",
      "Epoch 225\n"
     ]
    },
    {
     "name": "stderr",
     "output_type": "stream",
     "text": [
      "100%|██████████| 9/9 [01:25<00:00,  9.51s/it]\n",
      "  0%|          | 0/9 [00:00<?, ?it/s]"
     ]
    },
    {
     "name": "stdout",
     "output_type": "stream",
     "text": [
      "Current train loss: 9.209177\n",
      "Doing Train...\n",
      "Epoch 226\n"
     ]
    },
    {
     "name": "stderr",
     "output_type": "stream",
     "text": [
      "100%|██████████| 9/9 [01:27<00:00,  9.73s/it]\n",
      "  0%|          | 0/9 [00:00<?, ?it/s]"
     ]
    },
    {
     "name": "stdout",
     "output_type": "stream",
     "text": [
      "Current train loss: 9.198959\n",
      "Doing Train...\n",
      "Epoch 227\n"
     ]
    },
    {
     "name": "stderr",
     "output_type": "stream",
     "text": [
      "100%|██████████| 9/9 [01:32<00:00, 10.23s/it]\n",
      "  0%|          | 0/9 [00:00<?, ?it/s]"
     ]
    },
    {
     "name": "stdout",
     "output_type": "stream",
     "text": [
      "Current train loss: 9.210781\n",
      "Doing Train...\n",
      "Epoch 228\n"
     ]
    },
    {
     "name": "stderr",
     "output_type": "stream",
     "text": [
      "100%|██████████| 9/9 [01:37<00:00, 10.81s/it]\n",
      "  0%|          | 0/9 [00:00<?, ?it/s]"
     ]
    },
    {
     "name": "stdout",
     "output_type": "stream",
     "text": [
      "Current train loss: 9.211103\n",
      "Doing Train...\n",
      "Epoch 229\n"
     ]
    },
    {
     "name": "stderr",
     "output_type": "stream",
     "text": [
      "100%|██████████| 9/9 [01:36<00:00, 10.77s/it]\n",
      "  0%|          | 0/9 [00:00<?, ?it/s]"
     ]
    },
    {
     "name": "stdout",
     "output_type": "stream",
     "text": [
      "Current train loss: 9.218754\n",
      "Doing Train...\n",
      "Epoch 230\n"
     ]
    },
    {
     "name": "stderr",
     "output_type": "stream",
     "text": [
      "100%|██████████| 9/9 [01:37<00:00, 10.79s/it]\n",
      "  0%|          | 0/9 [00:00<?, ?it/s]"
     ]
    },
    {
     "name": "stdout",
     "output_type": "stream",
     "text": [
      "Current train loss: 9.205921\n",
      "Doing Train...\n",
      "Epoch 231\n"
     ]
    },
    {
     "name": "stderr",
     "output_type": "stream",
     "text": [
      "100%|██████████| 9/9 [01:37<00:00, 10.78s/it]\n",
      "  0%|          | 0/9 [00:00<?, ?it/s]"
     ]
    },
    {
     "name": "stdout",
     "output_type": "stream",
     "text": [
      "Current train loss: 9.203002\n",
      "Doing Train...\n",
      "Epoch 232\n"
     ]
    },
    {
     "name": "stderr",
     "output_type": "stream",
     "text": [
      "100%|██████████| 9/9 [01:38<00:00, 10.93s/it]\n",
      "  0%|          | 0/9 [00:00<?, ?it/s]"
     ]
    },
    {
     "name": "stdout",
     "output_type": "stream",
     "text": [
      "Current train loss: 9.209872\n",
      "Doing Train...\n",
      "Epoch 233\n"
     ]
    },
    {
     "name": "stderr",
     "output_type": "stream",
     "text": [
      "100%|██████████| 9/9 [01:36<00:00, 10.69s/it]\n",
      "  0%|          | 0/9 [00:00<?, ?it/s]"
     ]
    },
    {
     "name": "stdout",
     "output_type": "stream",
     "text": [
      "Current train loss: 9.226077\n",
      "Doing Train...\n",
      "Epoch 234\n"
     ]
    },
    {
     "name": "stderr",
     "output_type": "stream",
     "text": [
      "100%|██████████| 9/9 [01:27<00:00,  9.69s/it]\n",
      "  0%|          | 0/9 [00:00<?, ?it/s]"
     ]
    },
    {
     "name": "stdout",
     "output_type": "stream",
     "text": [
      "Current train loss: 9.213104\n",
      "Doing Train...\n",
      "Epoch 235\n"
     ]
    },
    {
     "name": "stderr",
     "output_type": "stream",
     "text": [
      "100%|██████████| 9/9 [01:27<00:00,  9.73s/it]\n",
      "  0%|          | 0/9 [00:00<?, ?it/s]"
     ]
    },
    {
     "name": "stdout",
     "output_type": "stream",
     "text": [
      "Current train loss: 9.232266\n",
      "Doing Train...\n",
      "Epoch 236\n"
     ]
    },
    {
     "name": "stderr",
     "output_type": "stream",
     "text": [
      "100%|██████████| 9/9 [01:28<00:00,  9.86s/it]\n",
      "  0%|          | 0/9 [00:00<?, ?it/s]"
     ]
    },
    {
     "name": "stdout",
     "output_type": "stream",
     "text": [
      "Current train loss: 9.223910\n",
      "Doing Train...\n",
      "Epoch 237\n"
     ]
    },
    {
     "name": "stderr",
     "output_type": "stream",
     "text": [
      "100%|██████████| 9/9 [01:30<00:00, 10.08s/it]\n",
      "  0%|          | 0/9 [00:00<?, ?it/s]"
     ]
    },
    {
     "name": "stdout",
     "output_type": "stream",
     "text": [
      "Current train loss: 9.223868\n",
      "Doing Train...\n",
      "Epoch 238\n"
     ]
    },
    {
     "name": "stderr",
     "output_type": "stream",
     "text": [
      "100%|██████████| 9/9 [01:28<00:00,  9.83s/it]\n",
      "  0%|          | 0/9 [00:00<?, ?it/s]"
     ]
    },
    {
     "name": "stdout",
     "output_type": "stream",
     "text": [
      "Current train loss: 9.212289\n",
      "Doing Train...\n",
      "Epoch 239\n"
     ]
    },
    {
     "name": "stderr",
     "output_type": "stream",
     "text": [
      "100%|██████████| 9/9 [01:29<00:00,  9.96s/it]\n",
      "  0%|          | 0/9 [00:00<?, ?it/s]"
     ]
    },
    {
     "name": "stdout",
     "output_type": "stream",
     "text": [
      "Current train loss: 9.209145\n",
      "Doing Train...\n",
      "Epoch 240\n"
     ]
    },
    {
     "name": "stderr",
     "output_type": "stream",
     "text": [
      "100%|██████████| 9/9 [01:37<00:00, 10.79s/it]\n",
      "  0%|          | 0/9 [00:00<?, ?it/s]"
     ]
    },
    {
     "name": "stdout",
     "output_type": "stream",
     "text": [
      "Current train loss: 9.225526\n",
      "Doing Train...\n",
      "Epoch 241\n"
     ]
    },
    {
     "name": "stderr",
     "output_type": "stream",
     "text": [
      "100%|██████████| 9/9 [01:31<00:00, 10.15s/it]\n",
      "  0%|          | 0/9 [00:00<?, ?it/s]"
     ]
    },
    {
     "name": "stdout",
     "output_type": "stream",
     "text": [
      "Current train loss: 9.201333\n",
      "Doing Train...\n",
      "Epoch 242\n"
     ]
    },
    {
     "name": "stderr",
     "output_type": "stream",
     "text": [
      "100%|██████████| 9/9 [01:32<00:00, 10.27s/it]\n",
      "  0%|          | 0/9 [00:00<?, ?it/s]"
     ]
    },
    {
     "name": "stdout",
     "output_type": "stream",
     "text": [
      "Current train loss: 9.201009\n",
      "Doing Train...\n",
      "Epoch 243\n"
     ]
    },
    {
     "name": "stderr",
     "output_type": "stream",
     "text": [
      "100%|██████████| 9/9 [01:36<00:00, 10.68s/it]\n",
      "  0%|          | 0/9 [00:00<?, ?it/s]"
     ]
    },
    {
     "name": "stdout",
     "output_type": "stream",
     "text": [
      "Current train loss: 9.211818\n",
      "Doing Train...\n",
      "Epoch 244\n"
     ]
    },
    {
     "name": "stderr",
     "output_type": "stream",
     "text": [
      "100%|██████████| 9/9 [01:35<00:00, 10.65s/it]\n",
      "  0%|          | 0/9 [00:00<?, ?it/s]"
     ]
    },
    {
     "name": "stdout",
     "output_type": "stream",
     "text": [
      "Current train loss: 9.207770\n",
      "Doing Train...\n",
      "Epoch 245\n"
     ]
    },
    {
     "name": "stderr",
     "output_type": "stream",
     "text": [
      "100%|██████████| 9/9 [01:36<00:00, 10.68s/it]\n",
      "  0%|          | 0/9 [00:00<?, ?it/s]"
     ]
    },
    {
     "name": "stdout",
     "output_type": "stream",
     "text": [
      "Current train loss: 9.207280\n",
      "Doing Train...\n",
      "Epoch 246\n"
     ]
    },
    {
     "name": "stderr",
     "output_type": "stream",
     "text": [
      "100%|██████████| 9/9 [01:29<00:00,  9.91s/it]\n",
      "  0%|          | 0/9 [00:00<?, ?it/s]"
     ]
    },
    {
     "name": "stdout",
     "output_type": "stream",
     "text": [
      "Current train loss: 9.200618\n",
      "Doing Train...\n",
      "Epoch 247\n"
     ]
    },
    {
     "name": "stderr",
     "output_type": "stream",
     "text": [
      "100%|██████████| 9/9 [01:32<00:00, 10.25s/it]\n",
      "  0%|          | 0/9 [00:00<?, ?it/s]"
     ]
    },
    {
     "name": "stdout",
     "output_type": "stream",
     "text": [
      "Current train loss: 9.214460\n",
      "Doing Train...\n",
      "Epoch 248\n"
     ]
    },
    {
     "name": "stderr",
     "output_type": "stream",
     "text": [
      "100%|██████████| 9/9 [01:33<00:00, 10.44s/it]\n",
      "  0%|          | 0/9 [00:00<?, ?it/s]"
     ]
    },
    {
     "name": "stdout",
     "output_type": "stream",
     "text": [
      "Current train loss: 9.208281\n",
      "Doing Train...\n",
      "Epoch 249\n"
     ]
    },
    {
     "name": "stderr",
     "output_type": "stream",
     "text": [
      "100%|██████████| 9/9 [01:34<00:00, 10.46s/it]\n",
      "  0%|          | 0/3 [00:00<?, ?it/s]"
     ]
    },
    {
     "name": "stdout",
     "output_type": "stream",
     "text": [
      "Current train loss: 9.205707\n",
      "Doing Test...\n"
     ]
    },
    {
     "name": "stderr",
     "output_type": "stream",
     "text": [
      "100%|██████████| 3/3 [00:15<00:00,  5.07s/it]\n",
      "  0%|          | 0/9 [00:00<?, ?it/s]"
     ]
    },
    {
     "name": "stdout",
     "output_type": "stream",
     "text": [
      "Current test loss: 9.441628\n",
      "Doing Train...\n",
      "Epoch 250\n"
     ]
    },
    {
     "name": "stderr",
     "output_type": "stream",
     "text": [
      "100%|██████████| 9/9 [01:34<00:00, 10.46s/it]\n",
      "  0%|          | 0/9 [00:00<?, ?it/s]"
     ]
    },
    {
     "name": "stdout",
     "output_type": "stream",
     "text": [
      "Current train loss: 9.211040\n",
      "Doing Train...\n",
      "Epoch 251\n"
     ]
    },
    {
     "name": "stderr",
     "output_type": "stream",
     "text": [
      "100%|██████████| 9/9 [01:33<00:00, 10.44s/it]\n",
      "  0%|          | 0/9 [00:00<?, ?it/s]"
     ]
    },
    {
     "name": "stdout",
     "output_type": "stream",
     "text": [
      "Current train loss: 9.224271\n",
      "Doing Train...\n",
      "Epoch 252\n"
     ]
    },
    {
     "name": "stderr",
     "output_type": "stream",
     "text": [
      "100%|██████████| 9/9 [01:33<00:00, 10.37s/it]\n",
      "  0%|          | 0/9 [00:00<?, ?it/s]"
     ]
    },
    {
     "name": "stdout",
     "output_type": "stream",
     "text": [
      "Current train loss: 9.230038\n",
      "Doing Train...\n",
      "Epoch 253\n"
     ]
    },
    {
     "name": "stderr",
     "output_type": "stream",
     "text": [
      "100%|██████████| 9/9 [01:33<00:00, 10.44s/it]\n",
      "  0%|          | 0/9 [00:00<?, ?it/s]"
     ]
    },
    {
     "name": "stdout",
     "output_type": "stream",
     "text": [
      "Current train loss: 9.210441\n",
      "Doing Train...\n",
      "Epoch 254\n"
     ]
    },
    {
     "name": "stderr",
     "output_type": "stream",
     "text": [
      "100%|██████████| 9/9 [01:35<00:00, 10.59s/it]\n",
      "  0%|          | 0/9 [00:00<?, ?it/s]"
     ]
    },
    {
     "name": "stdout",
     "output_type": "stream",
     "text": [
      "Current train loss: 9.213474\n",
      "Doing Train...\n",
      "Epoch 255\n"
     ]
    },
    {
     "name": "stderr",
     "output_type": "stream",
     "text": [
      "100%|██████████| 9/9 [01:33<00:00, 10.42s/it]\n",
      "  0%|          | 0/9 [00:00<?, ?it/s]"
     ]
    },
    {
     "name": "stdout",
     "output_type": "stream",
     "text": [
      "Current train loss: 9.204846\n",
      "Doing Train...\n",
      "Epoch 256\n"
     ]
    },
    {
     "name": "stderr",
     "output_type": "stream",
     "text": [
      "100%|██████████| 9/9 [01:34<00:00, 10.50s/it]\n",
      "  0%|          | 0/9 [00:00<?, ?it/s]"
     ]
    },
    {
     "name": "stdout",
     "output_type": "stream",
     "text": [
      "Current train loss: 9.210269\n",
      "Doing Train...\n",
      "Epoch 257\n"
     ]
    },
    {
     "name": "stderr",
     "output_type": "stream",
     "text": [
      "100%|██████████| 9/9 [01:34<00:00, 10.48s/it]\n",
      "  0%|          | 0/9 [00:00<?, ?it/s]"
     ]
    },
    {
     "name": "stdout",
     "output_type": "stream",
     "text": [
      "Current train loss: 9.206517\n",
      "Doing Train...\n",
      "Epoch 258\n"
     ]
    },
    {
     "name": "stderr",
     "output_type": "stream",
     "text": [
      "100%|██████████| 9/9 [01:32<00:00, 10.28s/it]\n",
      "  0%|          | 0/9 [00:00<?, ?it/s]"
     ]
    },
    {
     "name": "stdout",
     "output_type": "stream",
     "text": [
      "Current train loss: 9.199132\n",
      "Doing Train...\n",
      "Epoch 259\n"
     ]
    },
    {
     "name": "stderr",
     "output_type": "stream",
     "text": [
      "100%|██████████| 9/9 [01:30<00:00, 10.08s/it]\n",
      "  0%|          | 0/9 [00:00<?, ?it/s]"
     ]
    },
    {
     "name": "stdout",
     "output_type": "stream",
     "text": [
      "Current train loss: 9.217805\n",
      "Doing Train...\n",
      "Epoch 260\n"
     ]
    },
    {
     "name": "stderr",
     "output_type": "stream",
     "text": [
      "100%|██████████| 9/9 [01:26<00:00,  9.57s/it]\n",
      "  0%|          | 0/9 [00:00<?, ?it/s]"
     ]
    },
    {
     "name": "stdout",
     "output_type": "stream",
     "text": [
      "Current train loss: 9.203340\n",
      "Doing Train...\n",
      "Epoch 261\n"
     ]
    },
    {
     "name": "stderr",
     "output_type": "stream",
     "text": [
      "100%|██████████| 9/9 [01:28<00:00,  9.84s/it]\n",
      "  0%|          | 0/9 [00:00<?, ?it/s]"
     ]
    },
    {
     "name": "stdout",
     "output_type": "stream",
     "text": [
      "Current train loss: 9.195095\n",
      "Doing Train...\n",
      "Epoch 262\n"
     ]
    },
    {
     "name": "stderr",
     "output_type": "stream",
     "text": [
      "100%|██████████| 9/9 [01:25<00:00,  9.54s/it]\n",
      "  0%|          | 0/9 [00:00<?, ?it/s]"
     ]
    },
    {
     "name": "stdout",
     "output_type": "stream",
     "text": [
      "Current train loss: 9.206026\n",
      "Doing Train...\n",
      "Epoch 263\n"
     ]
    },
    {
     "name": "stderr",
     "output_type": "stream",
     "text": [
      "100%|██████████| 9/9 [01:26<00:00,  9.63s/it]\n",
      "  0%|          | 0/9 [00:00<?, ?it/s]"
     ]
    },
    {
     "name": "stdout",
     "output_type": "stream",
     "text": [
      "Current train loss: 9.211211\n",
      "Doing Train...\n",
      "Epoch 264\n"
     ]
    },
    {
     "name": "stderr",
     "output_type": "stream",
     "text": [
      "100%|██████████| 9/9 [01:28<00:00,  9.87s/it]\n",
      "  0%|          | 0/9 [00:00<?, ?it/s]"
     ]
    },
    {
     "name": "stdout",
     "output_type": "stream",
     "text": [
      "Current train loss: 9.213769\n",
      "Doing Train...\n",
      "Epoch 265\n"
     ]
    },
    {
     "name": "stderr",
     "output_type": "stream",
     "text": [
      "100%|██████████| 9/9 [01:27<00:00,  9.72s/it]\n",
      "  0%|          | 0/9 [00:00<?, ?it/s]"
     ]
    },
    {
     "name": "stdout",
     "output_type": "stream",
     "text": [
      "Current train loss: 9.193199\n",
      "Doing Train...\n",
      "Epoch 266\n"
     ]
    },
    {
     "name": "stderr",
     "output_type": "stream",
     "text": [
      "100%|██████████| 9/9 [01:28<00:00,  9.79s/it]\n",
      "  0%|          | 0/9 [00:00<?, ?it/s]"
     ]
    },
    {
     "name": "stdout",
     "output_type": "stream",
     "text": [
      "Current train loss: 9.224345\n",
      "Doing Train...\n",
      "Epoch 267\n"
     ]
    },
    {
     "name": "stderr",
     "output_type": "stream",
     "text": [
      "100%|██████████| 9/9 [01:28<00:00,  9.85s/it]\n",
      "  0%|          | 0/9 [00:00<?, ?it/s]"
     ]
    },
    {
     "name": "stdout",
     "output_type": "stream",
     "text": [
      "Current train loss: 9.191424\n",
      "Doing Train...\n",
      "Epoch 268\n"
     ]
    },
    {
     "name": "stderr",
     "output_type": "stream",
     "text": [
      "100%|██████████| 9/9 [01:27<00:00,  9.76s/it]\n",
      "  0%|          | 0/9 [00:00<?, ?it/s]"
     ]
    },
    {
     "name": "stdout",
     "output_type": "stream",
     "text": [
      "Current train loss: 9.201524\n",
      "Doing Train...\n",
      "Epoch 269\n"
     ]
    },
    {
     "name": "stderr",
     "output_type": "stream",
     "text": [
      "100%|██████████| 9/9 [01:28<00:00,  9.83s/it]\n",
      "  0%|          | 0/9 [00:00<?, ?it/s]"
     ]
    },
    {
     "name": "stdout",
     "output_type": "stream",
     "text": [
      "Current train loss: 9.204396\n",
      "Doing Train...\n",
      "Epoch 270\n"
     ]
    },
    {
     "name": "stderr",
     "output_type": "stream",
     "text": [
      "100%|██████████| 9/9 [01:28<00:00,  9.81s/it]\n",
      "  0%|          | 0/9 [00:00<?, ?it/s]"
     ]
    },
    {
     "name": "stdout",
     "output_type": "stream",
     "text": [
      "Current train loss: 9.195080\n",
      "Doing Train...\n",
      "Epoch 271\n"
     ]
    },
    {
     "name": "stderr",
     "output_type": "stream",
     "text": [
      "100%|██████████| 9/9 [01:28<00:00,  9.83s/it]\n",
      "  0%|          | 0/9 [00:00<?, ?it/s]"
     ]
    },
    {
     "name": "stdout",
     "output_type": "stream",
     "text": [
      "Current train loss: 9.197468\n",
      "Doing Train...\n",
      "Epoch 272\n"
     ]
    },
    {
     "name": "stderr",
     "output_type": "stream",
     "text": [
      "100%|██████████| 9/9 [01:30<00:00, 10.01s/it]\n",
      "  0%|          | 0/9 [00:00<?, ?it/s]"
     ]
    },
    {
     "name": "stdout",
     "output_type": "stream",
     "text": [
      "Current train loss: 9.191671\n",
      "Doing Train...\n",
      "Epoch 273\n"
     ]
    },
    {
     "name": "stderr",
     "output_type": "stream",
     "text": [
      "100%|██████████| 9/9 [01:27<00:00,  9.72s/it]\n",
      "  0%|          | 0/9 [00:00<?, ?it/s]"
     ]
    },
    {
     "name": "stdout",
     "output_type": "stream",
     "text": [
      "Current train loss: 9.218858\n",
      "Doing Train...\n",
      "Epoch 274\n"
     ]
    },
    {
     "name": "stderr",
     "output_type": "stream",
     "text": [
      "100%|██████████| 9/9 [01:26<00:00,  9.60s/it]\n",
      "  0%|          | 0/9 [00:00<?, ?it/s]"
     ]
    },
    {
     "name": "stdout",
     "output_type": "stream",
     "text": [
      "Current train loss: 9.207006\n",
      "Doing Train...\n",
      "Epoch 275\n"
     ]
    },
    {
     "name": "stderr",
     "output_type": "stream",
     "text": [
      "100%|██████████| 9/9 [01:27<00:00,  9.69s/it]\n",
      "  0%|          | 0/9 [00:00<?, ?it/s]"
     ]
    },
    {
     "name": "stdout",
     "output_type": "stream",
     "text": [
      "Current train loss: 9.215160\n",
      "Doing Train...\n",
      "Epoch 276\n"
     ]
    },
    {
     "name": "stderr",
     "output_type": "stream",
     "text": [
      "100%|██████████| 9/9 [01:24<00:00,  9.43s/it]\n",
      "  0%|          | 0/9 [00:00<?, ?it/s]"
     ]
    },
    {
     "name": "stdout",
     "output_type": "stream",
     "text": [
      "Current train loss: 9.215588\n",
      "Doing Train...\n",
      "Epoch 277\n"
     ]
    },
    {
     "name": "stderr",
     "output_type": "stream",
     "text": [
      "100%|██████████| 9/9 [01:26<00:00,  9.61s/it]\n",
      "  0%|          | 0/3 [00:00<?, ?it/s]"
     ]
    },
    {
     "name": "stdout",
     "output_type": "stream",
     "text": [
      "Current train loss: 9.208369\n",
      "Doing Test...\n"
     ]
    },
    {
     "name": "stderr",
     "output_type": "stream",
     "text": [
      "100%|██████████| 3/3 [00:15<00:00,  5.09s/it]"
     ]
    },
    {
     "name": "stdout",
     "output_type": "stream",
     "text": [
      "Current test loss: 9.399943\n",
      "Done!\n",
      "epoch :  278\n",
      "steps :  2502\n"
     ]
    },
    {
     "name": "stderr",
     "output_type": "stream",
     "text": [
      "\n"
     ]
    }
   ],
   "source": [
    "# choose specified optimizer\n",
    "optimizer = torch.optim.Adam(model.parameters(), lr=config_encoder[\"lr\"])\n",
    "criterion = {\"global_dminus\": lambda: GlobalLossDminus(config_encoder),\n",
    "             \"representation_loss_global_dminus\" : lambda: GlobalLossDminus(config_encoder),\n",
    "             \"2_steps_global_dminus\" : lambda: GlobalLossDminus(config_encoder),\n",
    "             \"global_d\": lambda: GlobalLossD(config_encoder),\n",
    "             \"representation_loss_global_d\" : lambda : GlobalLossD(config_encoder),\n",
    "             \"2_steps_global_d\": lambda : GlobalLossD(config_encoder),\n",
    "             \"demeaned_representation_loss\": lambda : GlobalLossD(config_encoder),\n",
    "             \"demeaned_representation_loss_2\": lambda : GlobalLossD(config_encoder),\n",
    "             } [config_encoder['loss'] ]()\n",
    "\n",
    "if config_encoder['loss'] == '2_steps_global_d' :\n",
    "    criterion2 = GlobalLossD(config_encoder, within_dataset = True)\n",
    "if config_encoder['loss'] == '2_steps_global_dminus' :\n",
    "    criterion2 = GlobalLossDminus(config_encoder, within_dataset = True)\n",
    "if config_encoder['loss'] == 'demeaned_representation_loss' :\n",
    "    criterion2 = DemeanedGlobalLossD(config_encoder)\n",
    "    \n",
    "    \n",
    "device = torch.device('cuda:0' if torch.cuda.is_available() else 'cpu')\n",
    "print(\"Using device: \", device)\n",
    "model.to(device)\n",
    "print(\"Running model %s\" % config_encoder[\"model\"])\n",
    "\n",
    "n_parts = config_encoder['n_parts']\n",
    "\n",
    "name_dataset = ['ACDC', 'HCP', 'Chaos']#config_encoder['name_dataset']\n",
    "n_datasets = len(name_dataset)\n",
    "n_volumes = 4#config_encoder['n_volumes']\n",
    "n_transforms = config_encoder['n_transforms']\n",
    "resize_size = config_encoder['resize_size']\n",
    "n_channels = config_encoder['n_channels']\n",
    "loss_pretraining = config_encoder['loss']\n",
    "lambda_ = config_encoder['lambda']\n",
    "batch_size = n_parts * n_datasets * n_volumes * (n_transforms+1)\n",
    "perp_val = 80\n",
    "max_epochs = config_encoder['max_epochs']\n",
    "max_steps = config_encoder['max_steps']\n",
    "weight_loss = config_encoder['weight_loss']\n",
    "save_global_path = config_encoder['save_global_path']\n",
    "temp_fac = config_encoder[\"temp_fac\"]\n",
    "\n",
    "name_datasets = \"\"\n",
    "for dataset in name_dataset :\n",
    "    name_datasets += dataset + '_'\n",
    "\n",
    "save_directory = save_global_path + loss_pretraining + 'teeeeest/' + name_datasets + str(n_volumes) \\\n",
    "                        + 'volumesPerBatch'\n",
    "    \n",
    "save_models = save_directory + '/save_models/'\n",
    "Path(save_models).mkdir(parents=True, exist_ok=True)\n",
    "\n",
    "print('Parameters used : ')\n",
    "print('Pretraining')\n",
    "print('loss : ', loss_pretraining)\n",
    "print('weight_loss : ', weight_loss)\n",
    "print('n_volumes : ', n_volumes)\n",
    "print('n_transforms : ', n_transforms)\n",
    "print('n_datasets : ', n_datasets)\n",
    "print('max_epochs : ', max_epochs)\n",
    "print('max_steps : ', max_steps)\n",
    "print('batch size : ', batch_size)\n",
    "print('temp_fac : ', temp_fac)\n",
    "print('save folder : ', save_directory)\n",
    "\n",
    "\n",
    "# Dataset Initialization\n",
    "datasets_train = []\n",
    "datasets_test = []\n",
    "datasets_loaders_demeaned = []\n",
    "\n",
    "print('Datasets used for pretraining :')\n",
    "\n",
    "count_datasets = 0\n",
    "for config_dataset in config_datasets:\n",
    "\n",
    "    if config_dataset['Data'] not in name_dataset :\n",
    "        continue\n",
    "    count_datasets += 1\n",
    "\n",
    "    print(config_dataset['Data'])\n",
    "\n",
    "    current_datasets_train = []\n",
    "    current_datasets_test = []\n",
    "\n",
    "    for path in Path( config_dataset[\"savedir\"]).rglob( \"train/*/img.nii.gz\"):\n",
    "        current_datasets_train.append(path)\n",
    "\n",
    "    for path in Path( config_dataset[\"savedir\"]).rglob( \"test/*/img.nii.gz\"):\n",
    "        current_datasets_test.append(path)\n",
    "    print('n vol in train : ', len(current_datasets_train))\n",
    "    print('n vol in test : ', len(current_datasets_test))\n",
    "    datasets_train.append(current_datasets_train)\n",
    "    datasets_test.append(current_datasets_test)\n",
    "\n",
    "    if loss_pretraining == 'demeaned_representation_loss'  or loss_pretraining == 'demeaned_representation_loss_2' :\n",
    "        dataset_demeaned = PreTrainDatasetDemeaned(current_datasets_train)\n",
    "        datasets_loader_demeaned = DataLoader(dataset_demeaned,\n",
    "                            num_workers=1,\n",
    "                            batch_size = 32,\n",
    "                            pin_memory=True,\n",
    "                            shuffle=False,\n",
    "                            drop_last=False)\n",
    "        datasets_loaders_demeaned.append(datasets_loader_demeaned)\n",
    "                \n",
    "\n",
    "\n",
    "dataset_train = PreTrainDataset(config_encoder, datasets_train)\n",
    "dataset_loader_train = DataLoader(dataset_train,\n",
    "                            num_workers=1,\n",
    "                            batch_size= n_volumes,\n",
    "                            pin_memory=True,\n",
    "                            shuffle=True,\n",
    "                            drop_last=True)\n",
    "\n",
    "dataset_test = PreTrainDataset(config_encoder, datasets_test)\n",
    "dataset_loader_test = DataLoader(dataset_test,\n",
    "                            num_workers=1,\n",
    "                            batch_size=n_volumes,\n",
    "                            shuffle=False,\n",
    "                            drop_last=True)\n",
    "\n",
    "trans = custom_transforms(config_encoder)\n",
    "\n",
    "steps = 0\n",
    "losses = pd.DataFrame(columns = ['epoch', 'train loss', 'test loss'])\n",
    "\n",
    "# Training\n",
    "for epoch in range(max_epochs) :\n",
    "    \n",
    "    if steps > max_steps :\n",
    "        break\n",
    "    print(\"Doing Train...\")\n",
    "    print(\"Epoch {:03d}\".format(epoch))\n",
    "\n",
    "    model.train()\n",
    "    batch_train_loss = []\n",
    "    \n",
    "    # Calculate mean representation of each dataset from current model\n",
    "    if loss_pretraining == 'demeaned_representation_loss' or loss_pretraining == 'demeaned_representation_loss_2':\n",
    "        with torch.no_grad():\n",
    "            model.eval()\n",
    "            mean_representations = []\n",
    "            for i_dataset in range(n_datasets):\n",
    "                if epoch < 0 :\n",
    "                    mean_representation = torch.zeros((128, 6, 6))\n",
    "                else :\n",
    "                    for id_batch, batch_x in enumerate(tqdm(datasets_loaders_demeaned[i_dataset])):\n",
    "                        batch = batch_x.float().to(device)\n",
    "                        batch = batch.view((-1, n_channels, *resize_size))\n",
    "                        if id_batch == 0 :\n",
    "                            pred_representation = model.enc(batch).squeeze()\n",
    "                        else :\n",
    "                            pred_representation = torch.cat([pred_representation, model.enc(batch).squeeze()])\n",
    "                    mean_representation = torch.mean(pred_representation, dim = 0).to(device)\n",
    "                mean_representations.append(mean_representation)\n",
    "          \n",
    "    \n",
    "    for id_batch, batch_x in enumerate(tqdm(dataset_loader_train)):\n",
    "\n",
    "        optimizer.zero_grad()\n",
    "        \n",
    "        batch = batch_x.float().to(device)\n",
    "        batch = batch.view((-1, n_channels, *resize_size))\n",
    "        train_batch = batch\n",
    "        \n",
    "        if loss_pretraining == 'global_dminus' :\n",
    "            # don't include similar partitions as positive pairs\n",
    "            for i in range(n_transforms) :\n",
    "                train_batch = torch.cat([train_batch, trans(batch)])\n",
    "            pred = model(train_batch).squeeze()\n",
    "            loss = criterion(pred)\n",
    "        \n",
    "        elif loss_pretraining == 'global_d' :\n",
    "            # include similar partitions as positive pairs\n",
    "            for i in range(n_transforms) :\n",
    "                train_batch = torch.cat([train_batch, trans(batch)])\n",
    "            \n",
    "            pred = model(train_batch).squeeze()\n",
    "            loss = criterion(pred)\n",
    "        \n",
    "        elif loss_pretraining == 'representation_loss_global_d' :\n",
    "            # use global_d with one transformation for each loss \n",
    "            train_batch_1 = train_batch\n",
    "            train_batch_2 = train_batch\n",
    "            for i in range(n_transforms) :\n",
    "                train_batch_1 = torch.cat([train_batch_1, trans(batch,dtrans ='option_1')])\n",
    "                train_batch_2 = torch.cat([train_batch_2, trans(batch,dtrans ='option_2')])\n",
    "\n",
    "            pred = model(train_batch_1).squeeze()\n",
    "            pred_2 = model.enc(train_batch_2).squeeze()\n",
    "            \n",
    "            # loss computed after last dense layer\n",
    "            loss_1 = criterion(pred)\n",
    "            # loss computed before last dense layer\n",
    "            loss_2 = criterion(pred_2)\n",
    "            \n",
    "            loss = lambda_ * loss_1 + (1 - lambda_) * loss_2\n",
    "        \n",
    "        elif loss_pretraining == 'representation_loss_global_dminus' :\n",
    "            \n",
    "            # use global_dminus with one transformation for each loss \n",
    "            train_batch_1 = train_batch\n",
    "            train_batch_2 = train_batch\n",
    "            \n",
    "            for i in range(n_transforms) :\n",
    "                train_batch_1 = torch.cat([train_batch_1, trans(batch,dtrans ='option_1')])\n",
    "                train_batch_2 = torch.cat([train_batch_2, trans(batch,dtrans ='option_2')])\n",
    "\n",
    "            pred = model(train_batch_1).squeeze()\n",
    "            pred_2 = model.enc(train_batch_2).squeeze()\n",
    "            \n",
    "            # loss computed after last dense layer\n",
    "            loss_1 = criterion(pred)\n",
    "            # loss computed before last dense layer\n",
    "            loss_2 = criterion(pred_2)\n",
    "            \n",
    "            loss = lambda_ * loss_1 + (1 - lambda_) * loss_2\n",
    "        \n",
    "        \n",
    "        elif loss_pretraining == '2_steps_global_d':\n",
    "            # use global_d with two transformations \n",
    "            for i in range(n_transforms) :\n",
    "                train_batch = torch.cat([train_batch, trans(batch)])\n",
    "            \n",
    "            pred = model(train_batch).squeeze()\n",
    "            \n",
    "            # contrasting between datasets\n",
    "            loss_1 = criterion(pred)\n",
    "            # contrasting inside the dataset between partitions\n",
    "            loss_2 = criterion2(pred)\n",
    "            \n",
    "            loss = lambda_ * loss_1 + (1 - lambda_) * loss_2\n",
    "            \n",
    "        elif loss_pretraining == '2_steps_global_dminus':\n",
    "            # use global_dminus with two transformations \n",
    "            for i in range(n_transforms) :\n",
    "                train_batch = torch.cat([train_batch, trans(batch)])\n",
    "            \n",
    "            pred = model(train_batch).squeeze()\n",
    "            \n",
    "            # contrasting between datasets\n",
    "            loss_1 = criterion(pred)\n",
    "            # contrasting inside the dataset between partitions\n",
    "            loss_2 = criterion2(pred)\n",
    "            \n",
    "            loss = lambda_ * loss_1 + (1 - lambda_) * loss_2\n",
    "            \n",
    "        elif loss_pretraining == 'demeaned_representation_loss' :\n",
    "            # similar as representation_loss but with demeaned version loss\n",
    "            # subtract the mean of the representation of the repectif dataset of last epoch to compute the loss\n",
    "            for i in range(n_transforms) :\n",
    "                train_batch = torch.cat([train_batch, trans(batch, dtrans ='option_2')])\n",
    "            pred = model(train_batch).squeeze()\n",
    "            pred_representation = model.enc(train_batch).squeeze()\n",
    "            \n",
    "            loss_1 = criterion(pred)\n",
    "            loss_2 = criterion2(pred_representation, mean_representations)\n",
    "            \n",
    "            loss = lambda_ * loss_1 + (1 - lambda_) * loss_2\n",
    "            \n",
    "        elif loss_pretraining == 'demeaned_representation_loss_2' :\n",
    "            for i in range(n_transforms) :\n",
    "                train_batch = torch.cat([train_batch, trans(batch, dtrans ='option_2')])\n",
    "            pred_representation = model.enc(train_batch).squeeze()\n",
    "            \n",
    "            # Demeaned reg_pred with respective mean of the dataset \n",
    "            pred_demeaned_representation = pred_representation.clone()\n",
    "            for i in range(pred_representation.shape[0]) :\n",
    "                pred_demeaned_representation[i,:,:,:] -=  mean_representations[((i // n_parts) % n_datasets)] \n",
    "                #print((i // n_parts) % n_datasets)\n",
    "            pred = model.g1(pred_demeaned_representation).squeeze()\n",
    "            \n",
    "            loss = criterion(pred)\n",
    "            \n",
    "        if id_batch == 0 :\n",
    "            pred_train = pred\n",
    "        else :\n",
    "            pred_train = torch.cat([pred_train, pred.detach()])\n",
    "        \n",
    "        batch_train_loss.append(loss.item())\n",
    "\n",
    "        loss.backward()\n",
    "        optimizer.step()\n",
    "        \n",
    "        steps += 1\n",
    "        \n",
    "    if (epoch+1) % 50 == 0 :\n",
    "        directory_predictions = str(save_directory) + \"/predictions/\" + str(epoch) +\"/\" \n",
    "        Path(directory_predictions).mkdir(parents=True, exist_ok=True)\n",
    "        torch.save(pred_train, directory_predictions+ \"pred_train.pt\")\n",
    "        \n",
    "    train_loss = statistics.mean(batch_train_loss)\n",
    "    print(\"Current train loss: %f\" % train_loss)  \n",
    "    \n",
    "    if (epoch+1) % 50 == 0 or steps > max_steps :\n",
    "        if steps > max_steps : \n",
    "            directory_predictions = str(save_directory) + \"/predictions/final_encoder/\" \n",
    "            Path(directory_predictions).mkdir(parents=True, exist_ok=True)\n",
    "            torch.save(pred_train, directory_predictions+ \"pred_train.pt\")\n",
    "        # test\n",
    "        batch_val_loss = []\n",
    "\n",
    "        print(\"Doing Test...\")\n",
    "        with torch.no_grad():\n",
    "            model.eval()\n",
    "            predictions = pd.DataFrame(columns = ['type', 'prediction'])\n",
    "\n",
    "            for id_batch, batch_x in enumerate(tqdm(dataset_loader_test)):\n",
    "\n",
    "                batch = batch_x.float().to(device)\n",
    "                batch = batch.view((-1, n_channels, *resize_size))\n",
    "                val_batch = batch\n",
    "\n",
    "                if loss_pretraining == 'global_dminus' :\n",
    "                    # don't include similar partitions as positive pairs\n",
    "                    for i in range(n_transforms) :\n",
    "                        val_batch = torch.cat([val_batch, trans(batch)])\n",
    "\n",
    "                    pred = model(val_batch).squeeze()\n",
    "                    loss = criterion(pred)\n",
    "\n",
    "                elif loss_pretraining == 'global_d' :\n",
    "                    # include similar partitions as positive pairs\n",
    "                    for i in range(n_transforms) :\n",
    "                        val_batch = torch.cat([val_batch, trans(batch)])\n",
    "\n",
    "                    pred = model(val_batch).squeeze()\n",
    "                    loss = criterion(pred)\n",
    "\n",
    "                elif loss_pretraining == 'representation_loss_global_d' :\n",
    "                    val_batch_1 = val_batch\n",
    "                    val_batch_2 = val_batch\n",
    "\n",
    "                    for i in range(n_transforms) :\n",
    "                        val_batch_1 = torch.cat([val_batch_1, trans(batch,dtrans ='option_1')])\n",
    "                        val_batch_2 = torch.cat([val_batch_2, trans(batch,dtrans ='option_2')])\n",
    "\n",
    "                    pred = model(val_batch_1).squeeze()\n",
    "                    pred_2 = model.enc(val_batch_2).squeeze()\n",
    "\n",
    "                    # loss computed after last dense layer\n",
    "                    loss_1 = criterion(pred)\n",
    "                    # loss computed before last dense layer\n",
    "                    loss_2 = criterion(pred_2)\n",
    "\n",
    "                    loss = lambda_ * loss_1 + (1- lambda_) * loss_2\n",
    "                    \n",
    "                elif loss_pretraining == 'representation_loss_global_dminus' :\n",
    "                    val_batch_1 = val_batch\n",
    "                    val_batch_2 = val_batch\n",
    "\n",
    "                    for i in range(n_transforms) :\n",
    "                        val_batch_1 = torch.cat([val_batch_1, trans(batch,dtrans ='option_1')])\n",
    "                        val_batch_2 = torch.cat([val_batch_2, trans(batch,dtrans ='option_2')])\n",
    "\n",
    "                    pred = model(val_batch_1).squeeze()\n",
    "                    pred_2 = model.enc(val_batch_2).squeeze()\n",
    "\n",
    "                    # loss computed after last dense layer\n",
    "                    loss_1 = criterion(pred)\n",
    "                    # loss computed before last dense layer\n",
    "                    loss_2 = criterion(pred_2)\n",
    "\n",
    "                    loss = lambda_ * loss_1 + (1 - lambda_) * loss_2\n",
    "\n",
    "                elif loss_pretraining == '2_steps_global_d':\n",
    "                    # use global_d with two transformations \n",
    "                    for i in range(n_transforms) :\n",
    "                        val_batch = torch.cat([val_batch, trans(batch)])\n",
    "\n",
    "                    pred = model(val_batch).squeeze()\n",
    "\n",
    "                    # contrasting between datasets\n",
    "                    loss_1 = criterion(pred)\n",
    "                    # contrasting inside the dataset between partitions\n",
    "                    loss_2 = criterion2(pred)\n",
    "\n",
    "                    loss = lambda_ * loss_1 + (1 - lambda_) * loss_2\n",
    "                    \n",
    "                elif loss_pretraining == '2_steps_global_dminus':\n",
    "                    # use global_d with two transformations \n",
    "                    for i in range(n_transforms) :\n",
    "                        val_batch = torch.cat([val_batch, trans(batch)])\n",
    "\n",
    "                    pred = model(val_batch).squeeze()\n",
    "\n",
    "                    # contrasting between datasets\n",
    "                    loss_1 = criterion(pred)\n",
    "                    # contrasting inside the dataset between partitions\n",
    "                    loss_2 = criterion2(pred)\n",
    "\n",
    "                    loss = lambda_ * loss_1 + (1 - lambda_) * loss_2\n",
    "                \n",
    "                elif loss_pretraining == 'demeaned_representation_loss' :\n",
    "                    for i in range(n_transforms) :\n",
    "                        val_batch = torch.cat([val_batch, trans(batch, dtrans ='option_2')])\n",
    "                        \n",
    "                    #val_batch = torch.cat([val_batch, trans(batch, dtrans ='option_2')])\n",
    "                    pred_representation = model.enc(val_batch).squeeze()\n",
    "                    pred = model(val_batch).squeeze()\n",
    "                    \n",
    "                    loss_1 = criterion(pred)\n",
    "                    loss_2 = criterion2(pred_representation, mean_representations)\n",
    "                    \n",
    "                    loss = lambda_ * loss_1 + (1 - lambda_) * loss_2\n",
    "                    \n",
    "                elif loss_pretraining == 'demeaned_representation_loss_2' :\n",
    "                    for i in range(n_transforms) :\n",
    "                        val_batch = torch.cat([val_batch, trans(batch, dtrans ='option_2')])\n",
    "                    pred_representation = model.enc(val_batch).squeeze()\n",
    "\n",
    "                    # Demeaned reg_pred with respective mean of the dataset \n",
    "                    pred_demeaned_representation = pred_representation.clone().to(device)\n",
    "                    for i in range(pred_representation.shape[0]) :\n",
    "                        pred_demeaned_representation[i,:,:,:] -=  mean_representations[((i // n_parts) % n_datasets)] \n",
    "                        #print((i // n_parts) % n_datasets)\n",
    "                    pred = model.g1(pred_demeaned_representation).squeeze()\n",
    "\n",
    "                    loss = criterion(pred)\n",
    "                    \n",
    "                if id_batch == 0 :\n",
    "                    pred_test = pred\n",
    "                else :\n",
    "                    pred_test = torch.cat([pred_test, pred])\n",
    "\n",
    "                batch_val_loss.append(loss.item())\n",
    "\n",
    "        torch.save(pred_test, directory_predictions+\"pred_test.pt\")\n",
    "    \n",
    "        test_loss = statistics.mean(batch_val_loss)\n",
    "\n",
    "        print(\"Current test loss: %f\" % test_loss)  \n",
    "    \n",
    "    if (epoch+1) % 50 == 0 :\n",
    "        losses = losses.append([{'epoch': epoch, 'train loss' : train_loss, 'test loss' : test_loss}])\n",
    "        \n",
    "    else : \n",
    "        losses = losses.append([{'epoch': epoch, 'train loss' : train_loss}])\n",
    "        \n",
    "        \n",
    "    # Save loss and model at each 50 epoch\n",
    "    if (epoch+1) % 50 == 0 :\n",
    "        torch.save({\n",
    "                'epoch': epoch,\n",
    "                'model_state_dict': model.state_dict(),\n",
    "                'optimizer_state_dict': optimizer.state_dict(),\n",
    "                'loss': loss,\n",
    "                },str(save_models) + \"checkpoints_\" + str(epoch)+\".pt\")\n",
    "\n",
    "        losses.to_pickle(str(save_directory) + \"/losses.pkl\")\n",
    "        \n",
    "    if steps > max_steps :\n",
    "        torch.save({\n",
    "                'epoch': epoch,\n",
    "                'model_state_dict': model.state_dict(),\n",
    "                'optimizer_state_dict': optimizer.state_dict(),\n",
    "                'loss': loss,\n",
    "                },str(save_models) + \"final_encoder.pt\")\n",
    "\n",
    "        losses.to_pickle(str(save_directory) + \"/losses.pkl\")\n",
    "        \n",
    "        \n",
    "\n",
    "    \n",
    "losses.to_pickle(str(save_directory) + \"/losses.pkl\")\n",
    "print('Done!')\n",
    "print('epoch : ', epoch)\n",
    "print('steps : ', steps) \n"
   ]
  },
  {
   "cell_type": "code",
   "execution_count": null,
   "id": "8de2f578",
   "metadata": {},
   "outputs": [],
   "source": []
  },
  {
   "cell_type": "code",
   "execution_count": null,
   "id": "7d947a27",
   "metadata": {},
   "outputs": [],
   "source": []
  },
  {
   "cell_type": "code",
   "execution_count": null,
   "id": "7f43fc57",
   "metadata": {},
   "outputs": [],
   "source": []
  }
 ],
 "metadata": {
  "kernelspec": {
   "display_name": "Python 3",
   "language": "python",
   "name": "python3"
  },
  "language_info": {
   "codemirror_mode": {
    "name": "ipython",
    "version": 3
   },
   "file_extension": ".py",
   "mimetype": "text/x-python",
   "name": "python",
   "nbconvert_exporter": "python",
   "pygments_lexer": "ipython3",
   "version": "3.7.10"
  }
 },
 "nbformat": 4,
 "nbformat_minor": 5
}
